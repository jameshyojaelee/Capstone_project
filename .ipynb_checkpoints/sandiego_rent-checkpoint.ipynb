{
 "cells": [
  {
   "cell_type": "markdown",
   "metadata": {},
   "source": [
    "# Capstone project:\n",
    "# La Jolla Rental House Prices in relation to Venues\n",
    "### Author: James Lee\n",
    "\n",
    "## 1. Background\n",
    "\n",
    "San Diego is a city on Pacific coast of California with around 1.5  million residents. Because of its warm climate and beaches, San Diego has one of the highest cost of living in California. La Jolla is a seaside neighborhood where UC San Diego is located at and has an even higher cost of living compared to other parts of San Diego. <br> \n",
    "\n",
    "The main purpose of this project is to analyze the relationships between the venues and rental prices across different areas near UCSD.\n",
    "<br> \n",
    "\n",
    "\n",
    "## 2. Dataset\n",
    "\n",
    "* I will be obtaining all the data for venues in San Diego through **Foursquare API**.\n",
    "<br> <br> \n",
    "* Data for neighborhoods and zip codes are collectedfrom SANDAG. <br> \n",
    "Link Address: https://opendata.arcgis.com/datasets/41c3a7bd375547069a78fce90153cbc0_5.csv?outSR=%7B%22latestWkid%22%3A3857%2C%22wkid%22%3A102100%7D\n",
    "\n",
    "<br> <br> \n",
    "* The rental prices dataset was obtained from Zillow. The particular dataset does not include raw rental prices. The values are weighted to rental housing stock to ensure representativeness acorss the entire market. The values are caculated so that they fall into the 40-60th percentile rnage for all rents in a given region in order to represent the average rent prices.\n",
    "<br>\n",
    "Link Address: http://files.zillowstatic.com/research/public_v2/zori/Metro_ZORI_AllHomesPlusMultifamily_SSA.csv  \n",
    "\n",
    "<br>\n"
   ]
  },
  {
   "cell_type": "markdown",
   "metadata": {},
   "source": [
    "1) Import all the necessary libraries"
   ]
  },
  {
   "cell_type": "code",
   "execution_count": 1,
   "metadata": {},
   "outputs": [
    {
     "name": "stdout",
     "output_type": "stream",
     "text": [
      "Libraries imported.\n"
     ]
    }
   ],
   "source": [
    "import requests # library to handle requests\n",
    "import pandas as pd # library for data analsysis\n",
    "import numpy as np # library to handle data in a vectorized manner\n",
    "import random # library for random number generation\n",
    "\n",
    "\n",
    "from geopy.geocoders import Nominatim # module to convert an address into latitude and longitude values\n",
    "\n",
    "# libraries for displaying images\n",
    "from IPython.display import Image \n",
    "from IPython.core.display import HTML \n",
    "    \n",
    "# tranforming json file into a pandas dataframe library\n",
    "from pandas.io.json import json_normalize\n",
    "\n",
    "import folium # plotting library\n",
    "\n",
    "print('Libraries imported.')"
   ]
  },
  {
   "cell_type": "markdown",
   "metadata": {},
   "source": [
    "First, get all the region info by obatin zip codes and communities"
   ]
  },
  {
   "cell_type": "code",
   "execution_count": 2,
   "metadata": {},
   "outputs": [
    {
     "data": {
      "text/html": [
       "<div>\n",
       "<style scoped>\n",
       "    .dataframe tbody tr th:only-of-type {\n",
       "        vertical-align: middle;\n",
       "    }\n",
       "\n",
       "    .dataframe tbody tr th {\n",
       "        vertical-align: top;\n",
       "    }\n",
       "\n",
       "    .dataframe thead th {\n",
       "        text-align: right;\n",
       "    }\n",
       "</style>\n",
       "<table border=\"1\" class=\"dataframe\">\n",
       "  <thead>\n",
       "    <tr style=\"text-align: right;\">\n",
       "      <th></th>\n",
       "      <th>ZIP</th>\n",
       "      <th>COMMUNITY</th>\n",
       "    </tr>\n",
       "  </thead>\n",
       "  <tbody>\n",
       "    <tr>\n",
       "      <th>0</th>\n",
       "      <td>91901</td>\n",
       "      <td>Alpine</td>\n",
       "    </tr>\n",
       "    <tr>\n",
       "      <th>1</th>\n",
       "      <td>91902</td>\n",
       "      <td>Bonita</td>\n",
       "    </tr>\n",
       "    <tr>\n",
       "      <th>2</th>\n",
       "      <td>91905</td>\n",
       "      <td>Boulevard</td>\n",
       "    </tr>\n",
       "    <tr>\n",
       "      <th>3</th>\n",
       "      <td>91906</td>\n",
       "      <td>Campo</td>\n",
       "    </tr>\n",
       "    <tr>\n",
       "      <th>4</th>\n",
       "      <td>91910</td>\n",
       "      <td>Chula Vista</td>\n",
       "    </tr>\n",
       "  </tbody>\n",
       "</table>\n",
       "</div>"
      ],
      "text/plain": [
       "     ZIP    COMMUNITY\n",
       "0  91901       Alpine\n",
       "1  91902       Bonita\n",
       "2  91905    Boulevard\n",
       "3  91906        Campo\n",
       "4  91910  Chula Vista"
      ]
     },
     "execution_count": 2,
     "metadata": {},
     "output_type": "execute_result"
    }
   ],
   "source": [
    "district = pd.read_csv('https://opendata.arcgis.com/datasets/41c3a7bd375547069a78fce90153cbc0_5.csv?outSR=%7B%22latestWkid%22%3A3857%2C%22wkid%22%3A102100%7D')\n",
    "district = district[['ZIP', 'COMMUNITY']]\n",
    "district.head()"
   ]
  },
  {
   "cell_type": "markdown",
   "metadata": {},
   "source": [
    "Now import all the adjusted rent data from Zillow along with zip codes"
   ]
  },
  {
   "cell_type": "code",
   "execution_count": 3,
   "metadata": {},
   "outputs": [
    {
     "data": {
      "text/plain": [
       "(68, 86)"
      ]
     },
     "execution_count": 3,
     "metadata": {},
     "output_type": "execute_result"
    }
   ],
   "source": [
    "rent_temp = pd.read_csv('http://files.zillowstatic.com/research/public_v2/zori/Zip_ZORI_AllHomesPlusMultifamily_SSA.csv')\n",
    "rent_temp = rent_temp[rent_temp.MsaName == 'San Diego, CA']\n",
    "rent_temp.shape"
   ]
  },
  {
   "cell_type": "code",
   "execution_count": 4,
   "metadata": {},
   "outputs": [
    {
     "data": {
      "text/plain": [
       "(68, 2)"
      ]
     },
     "execution_count": 4,
     "metadata": {},
     "output_type": "execute_result"
    }
   ],
   "source": [
    "rent = rent_temp.iloc[:, [1, 85]] \n",
    "rent.columns = ['ZIP', 'rent']\n",
    "rent.shape"
   ]
  },
  {
   "cell_type": "markdown",
   "metadata": {},
   "source": [
    "Import latitude and longitudes info and match with rent dataframe"
   ]
  },
  {
   "cell_type": "code",
   "execution_count": 5,
   "metadata": {},
   "outputs": [],
   "source": [
    "coordinates = pd.read_csv('https://public.opendatasoft.com/explore/dataset/us-zip-code-latitude-and-longitude/download/?format=csv&timezone=America/Los_Angeles&lang=en&use_labels_for_header=true&csv_separator=%3B', sep=';')\n",
    "coordinates = coordinates[['Zip', 'Latitude', 'Longitude']]\n",
    "coordinates.columns = ['ZIP', 'lat', 'lng']"
   ]
  },
  {
   "cell_type": "code",
   "execution_count": 6,
   "metadata": {},
   "outputs": [
    {
     "data": {
      "text/html": [
       "<div>\n",
       "<style scoped>\n",
       "    .dataframe tbody tr th:only-of-type {\n",
       "        vertical-align: middle;\n",
       "    }\n",
       "\n",
       "    .dataframe tbody tr th {\n",
       "        vertical-align: top;\n",
       "    }\n",
       "\n",
       "    .dataframe thead th {\n",
       "        text-align: right;\n",
       "    }\n",
       "</style>\n",
       "<table border=\"1\" class=\"dataframe\">\n",
       "  <thead>\n",
       "    <tr style=\"text-align: right;\">\n",
       "      <th></th>\n",
       "      <th>ZIP</th>\n",
       "      <th>lat</th>\n",
       "      <th>lng</th>\n",
       "    </tr>\n",
       "  </thead>\n",
       "  <tbody>\n",
       "    <tr>\n",
       "      <th>0</th>\n",
       "      <td>66025</td>\n",
       "      <td>38.917032</td>\n",
       "      <td>-95.06455</td>\n",
       "    </tr>\n",
       "    <tr>\n",
       "      <th>1</th>\n",
       "      <td>74565</td>\n",
       "      <td>34.831398</td>\n",
       "      <td>-95.83967</td>\n",
       "    </tr>\n",
       "    <tr>\n",
       "      <th>2</th>\n",
       "      <td>75631</td>\n",
       "      <td>32.237924</td>\n",
       "      <td>-94.46427</td>\n",
       "    </tr>\n",
       "    <tr>\n",
       "      <th>3</th>\n",
       "      <td>92067</td>\n",
       "      <td>33.016492</td>\n",
       "      <td>-117.20264</td>\n",
       "    </tr>\n",
       "    <tr>\n",
       "      <th>4</th>\n",
       "      <td>92119</td>\n",
       "      <td>32.802250</td>\n",
       "      <td>-117.02431</td>\n",
       "    </tr>\n",
       "  </tbody>\n",
       "</table>\n",
       "</div>"
      ],
      "text/plain": [
       "     ZIP        lat        lng\n",
       "0  66025  38.917032  -95.06455\n",
       "1  74565  34.831398  -95.83967\n",
       "2  75631  32.237924  -94.46427\n",
       "3  92067  33.016492 -117.20264\n",
       "4  92119  32.802250 -117.02431"
      ]
     },
     "execution_count": 6,
     "metadata": {},
     "output_type": "execute_result"
    }
   ],
   "source": [
    "coordinates.head()"
   ]
  },
  {
   "cell_type": "code",
   "execution_count": 7,
   "metadata": {},
   "outputs": [
    {
     "data": {
      "text/html": [
       "<div>\n",
       "<style scoped>\n",
       "    .dataframe tbody tr th:only-of-type {\n",
       "        vertical-align: middle;\n",
       "    }\n",
       "\n",
       "    .dataframe tbody tr th {\n",
       "        vertical-align: top;\n",
       "    }\n",
       "\n",
       "    .dataframe thead th {\n",
       "        text-align: right;\n",
       "    }\n",
       "</style>\n",
       "<table border=\"1\" class=\"dataframe\">\n",
       "  <thead>\n",
       "    <tr style=\"text-align: right;\">\n",
       "      <th></th>\n",
       "      <th>ZIP</th>\n",
       "      <th>rent</th>\n",
       "      <th>lat</th>\n",
       "      <th>lng</th>\n",
       "    </tr>\n",
       "  </thead>\n",
       "  <tbody>\n",
       "    <tr>\n",
       "      <th>0</th>\n",
       "      <td>91910</td>\n",
       "      <td>2117.0</td>\n",
       "      <td>32.638654</td>\n",
       "      <td>-117.06686</td>\n",
       "    </tr>\n",
       "    <tr>\n",
       "      <th>1</th>\n",
       "      <td>92126</td>\n",
       "      <td>2463.0</td>\n",
       "      <td>32.914346</td>\n",
       "      <td>-117.14116</td>\n",
       "    </tr>\n",
       "    <tr>\n",
       "      <th>2</th>\n",
       "      <td>91911</td>\n",
       "      <td>2037.0</td>\n",
       "      <td>32.608799</td>\n",
       "      <td>-117.06070</td>\n",
       "    </tr>\n",
       "    <tr>\n",
       "      <th>3</th>\n",
       "      <td>92101</td>\n",
       "      <td>2340.0</td>\n",
       "      <td>32.719601</td>\n",
       "      <td>-117.16246</td>\n",
       "    </tr>\n",
       "    <tr>\n",
       "      <th>4</th>\n",
       "      <td>92109</td>\n",
       "      <td>2322.0</td>\n",
       "      <td>32.791246</td>\n",
       "      <td>-117.24343</td>\n",
       "    </tr>\n",
       "  </tbody>\n",
       "</table>\n",
       "</div>"
      ],
      "text/plain": [
       "     ZIP    rent        lat        lng\n",
       "0  91910  2117.0  32.638654 -117.06686\n",
       "1  92126  2463.0  32.914346 -117.14116\n",
       "2  91911  2037.0  32.608799 -117.06070\n",
       "3  92101  2340.0  32.719601 -117.16246\n",
       "4  92109  2322.0  32.791246 -117.24343"
      ]
     },
     "execution_count": 7,
     "metadata": {},
     "output_type": "execute_result"
    }
   ],
   "source": [
    "merged_df1 = rent.merge(coordinates, how='inner', on='ZIP')\n",
    "merged_df1.head()"
   ]
  },
  {
   "cell_type": "code",
   "execution_count": 8,
   "metadata": {},
   "outputs": [
    {
     "data": {
      "text/plain": [
       "(65, 4)"
      ]
     },
     "execution_count": 8,
     "metadata": {},
     "output_type": "execute_result"
    }
   ],
   "source": [
    "merged_df1.shape"
   ]
  },
  {
   "cell_type": "code",
   "execution_count": 9,
   "metadata": {},
   "outputs": [
    {
     "data": {
      "text/html": [
       "<div>\n",
       "<style scoped>\n",
       "    .dataframe tbody tr th:only-of-type {\n",
       "        vertical-align: middle;\n",
       "    }\n",
       "\n",
       "    .dataframe tbody tr th {\n",
       "        vertical-align: top;\n",
       "    }\n",
       "\n",
       "    .dataframe thead th {\n",
       "        text-align: right;\n",
       "    }\n",
       "</style>\n",
       "<table border=\"1\" class=\"dataframe\">\n",
       "  <thead>\n",
       "    <tr style=\"text-align: right;\">\n",
       "      <th></th>\n",
       "      <th>ZIP</th>\n",
       "      <th>rent</th>\n",
       "      <th>lat</th>\n",
       "      <th>lng</th>\n",
       "      <th>COMMUNITY</th>\n",
       "    </tr>\n",
       "  </thead>\n",
       "  <tbody>\n",
       "    <tr>\n",
       "      <th>0</th>\n",
       "      <td>91910</td>\n",
       "      <td>2117.0</td>\n",
       "      <td>32.638654</td>\n",
       "      <td>-117.06686</td>\n",
       "      <td>Chula Vista</td>\n",
       "    </tr>\n",
       "    <tr>\n",
       "      <th>1</th>\n",
       "      <td>92126</td>\n",
       "      <td>2463.0</td>\n",
       "      <td>32.914346</td>\n",
       "      <td>-117.14116</td>\n",
       "      <td>San Diego</td>\n",
       "    </tr>\n",
       "    <tr>\n",
       "      <th>2</th>\n",
       "      <td>91911</td>\n",
       "      <td>2037.0</td>\n",
       "      <td>32.608799</td>\n",
       "      <td>-117.06070</td>\n",
       "      <td>Chula Vista</td>\n",
       "    </tr>\n",
       "    <tr>\n",
       "      <th>3</th>\n",
       "      <td>92101</td>\n",
       "      <td>2340.0</td>\n",
       "      <td>32.719601</td>\n",
       "      <td>-117.16246</td>\n",
       "      <td>San Diego</td>\n",
       "    </tr>\n",
       "    <tr>\n",
       "      <th>4</th>\n",
       "      <td>92109</td>\n",
       "      <td>2322.0</td>\n",
       "      <td>32.791246</td>\n",
       "      <td>-117.24343</td>\n",
       "      <td>San Diego</td>\n",
       "    </tr>\n",
       "  </tbody>\n",
       "</table>\n",
       "</div>"
      ],
      "text/plain": [
       "     ZIP    rent        lat        lng    COMMUNITY\n",
       "0  91910  2117.0  32.638654 -117.06686  Chula Vista\n",
       "1  92126  2463.0  32.914346 -117.14116    San Diego\n",
       "2  91911  2037.0  32.608799 -117.06070  Chula Vista\n",
       "3  92101  2340.0  32.719601 -117.16246    San Diego\n",
       "4  92109  2322.0  32.791246 -117.24343    San Diego"
      ]
     },
     "execution_count": 9,
     "metadata": {},
     "output_type": "execute_result"
    }
   ],
   "source": [
    "merged_df = merged_df1.merge(district, how='inner', on='ZIP')\n",
    "merged_df.head()"
   ]
  },
  {
   "cell_type": "markdown",
   "metadata": {},
   "source": [
    "2) Input the Foursquare API info below"
   ]
  },
  {
   "cell_type": "code",
   "execution_count": 10,
   "metadata": {},
   "outputs": [
    {
     "name": "stdout",
     "output_type": "stream",
     "text": [
      "Your credentails:\n",
      "CLIENT_ID: O5XRHQWTDAQI4X53O3LXOAQOUYSIJ5UTGL1W21E43AT3PDCT\n",
      "CLIENT_SECRET:5U5LXOZT5B4FJNIMTQCPX5I4GTR4WNAIT2APEDB2NJG3TYV2\n"
     ]
    }
   ],
   "source": [
    "CLIENT_ID = '4F3OHVNT3U3RPUMFIX4CFGUI0JGY4PQCEWS3O2K44BYAVMEZ' # your Foursquare ID\n",
    "CLIENT_SECRET = 'EPSZOXGJ0XBNCF53QFEIS1PS4VSDED0MFNVX0HWH0W2SJASL' # your Foursquare Secret\n",
    "ACCESS_TOKEN = 'RBRF5NB4DRMNX4LBATUAMGLKJRTT0GX2A5RAENH55JJ1JYOL' # your FourSquare Access Token\n",
    "VERSION = '20180604'\n",
    "LIMIT = 50\n",
    "print('Your credentails:')\n",
    "print('CLIENT_ID: ' + CLIENT_ID)\n",
    "print('CLIENT_SECRET:' + CLIENT_SECRET)"
   ]
  },
  {
   "cell_type": "markdown",
   "metadata": {},
   "source": [
    "Get the center latitude and longitude of UCSD"
   ]
  },
  {
   "cell_type": "code",
   "execution_count": 11,
   "metadata": {},
   "outputs": [
    {
     "name": "stdout",
     "output_type": "stream",
     "text": [
      "32.87935255 -117.2311004938553\n"
     ]
    }
   ],
   "source": [
    "address = 'UCSD'\n",
    "\n",
    "geolocator = Nominatim(user_agent=\"foursquare_agent\")\n",
    "location = geolocator.geocode(address)\n",
    "latitude = location.latitude\n",
    "longitude = location.longitude\n",
    "print(latitude, longitude)"
   ]
  },
  {
   "cell_type": "markdown",
   "metadata": {},
   "source": [
    "Use folium library to generate a map of La Jolla "
   ]
  },
  {
   "cell_type": "code",
   "execution_count": 12,
   "metadata": {},
   "outputs": [
    {
     "data": {
      "text/html": [
       "<div style=\"width:100%;\"><div style=\"position:relative;width:100%;height:0;padding-bottom:60%;\"><span style=\"color:#565656\">Make this Notebook Trusted to load map: File -> Trust Notebook</span><iframe src=\"about:blank\" style=\"position:absolute;width:100%;height:100%;left:0;top:0;border:none !important;\" data-html=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 onload=\"this.contentDocument.open();this.contentDocument.write(atob(this.getAttribute('data-html')));this.contentDocument.close();\" allowfullscreen webkitallowfullscreen mozallowfullscreen></iframe></div></div>"
      ],
      "text/plain": [
       "<folium.folium.Map at 0x29f8d988b80>"
      ]
     },
     "execution_count": 12,
     "metadata": {},
     "output_type": "execute_result"
    }
   ],
   "source": [
    "# create map using latitude and longitude values\n",
    "map_LaJolla = folium.Map(location=[latitude, longitude], zoom_start=10)\n",
    "\n",
    "# add a red circle marker to represent UCSD\n",
    "folium.CircleMarker(\n",
    "    [latitude, longitude],\n",
    "    radius=15,\n",
    "    color='red',    \n",
    "    popup='UCSD',\n",
    "    fill = True,\n",
    "    fill_color = 'red',\n",
    "    fill_opacity = 0.6\n",
    ").add_to(map_LaJolla)\n",
    "\n",
    "# add markers to map\n",
    "for lat, lng, ZIP, COMMUNITY in zip(merged_df['lat'], merged_df['lng'], merged_df['ZIP'], merged_df['COMMUNITY']):\n",
    "    label = '{}, {}'.format(ZIP, COMMUNITY)\n",
    "    label = folium.Popup(label, parse_html=True)\n",
    "    folium.CircleMarker(\n",
    "        [lat, lng],\n",
    "        radius=5,\n",
    "        popup=label,\n",
    "        color='blue',\n",
    "        fill = True,\n",
    "        fill_color = 'blue',\n",
    "        fill_opacity = 0.6,\n",
    "        parse_html=False).add_to(map_LaJolla)  \n",
    "\n",
    "map_LaJolla"
   ]
  },
  {
   "cell_type": "code",
   "execution_count": 13,
   "metadata": {},
   "outputs": [
    {
     "data": {
      "text/html": [
       "<div>\n",
       "<style scoped>\n",
       "    .dataframe tbody tr th:only-of-type {\n",
       "        vertical-align: middle;\n",
       "    }\n",
       "\n",
       "    .dataframe tbody tr th {\n",
       "        vertical-align: top;\n",
       "    }\n",
       "\n",
       "    .dataframe thead th {\n",
       "        text-align: right;\n",
       "    }\n",
       "</style>\n",
       "<table border=\"1\" class=\"dataframe\">\n",
       "  <thead>\n",
       "    <tr style=\"text-align: right;\">\n",
       "      <th></th>\n",
       "      <th>ZIP</th>\n",
       "      <th>rent</th>\n",
       "      <th>lat</th>\n",
       "      <th>lng</th>\n",
       "      <th>COMMUNITY</th>\n",
       "    </tr>\n",
       "  </thead>\n",
       "  <tbody>\n",
       "    <tr>\n",
       "      <th>0</th>\n",
       "      <td>91910</td>\n",
       "      <td>2117.0</td>\n",
       "      <td>32.638654</td>\n",
       "      <td>-117.06686</td>\n",
       "      <td>Chula Vista</td>\n",
       "    </tr>\n",
       "    <tr>\n",
       "      <th>1</th>\n",
       "      <td>92126</td>\n",
       "      <td>2463.0</td>\n",
       "      <td>32.914346</td>\n",
       "      <td>-117.14116</td>\n",
       "      <td>San Diego</td>\n",
       "    </tr>\n",
       "    <tr>\n",
       "      <th>2</th>\n",
       "      <td>91911</td>\n",
       "      <td>2037.0</td>\n",
       "      <td>32.608799</td>\n",
       "      <td>-117.06070</td>\n",
       "      <td>Chula Vista</td>\n",
       "    </tr>\n",
       "    <tr>\n",
       "      <th>3</th>\n",
       "      <td>92101</td>\n",
       "      <td>2340.0</td>\n",
       "      <td>32.719601</td>\n",
       "      <td>-117.16246</td>\n",
       "      <td>San Diego</td>\n",
       "    </tr>\n",
       "    <tr>\n",
       "      <th>4</th>\n",
       "      <td>92109</td>\n",
       "      <td>2322.0</td>\n",
       "      <td>32.791246</td>\n",
       "      <td>-117.24343</td>\n",
       "      <td>San Diego</td>\n",
       "    </tr>\n",
       "  </tbody>\n",
       "</table>\n",
       "</div>"
      ],
      "text/plain": [
       "     ZIP    rent        lat        lng    COMMUNITY\n",
       "0  91910  2117.0  32.638654 -117.06686  Chula Vista\n",
       "1  92126  2463.0  32.914346 -117.14116    San Diego\n",
       "2  91911  2037.0  32.608799 -117.06070  Chula Vista\n",
       "3  92101  2340.0  32.719601 -117.16246    San Diego\n",
       "4  92109  2322.0  32.791246 -117.24343    San Diego"
      ]
     },
     "execution_count": 13,
     "metadata": {},
     "output_type": "execute_result"
    }
   ],
   "source": [
    "merged_df.head()"
   ]
  },
  {
   "cell_type": "code",
   "execution_count": 14,
   "metadata": {},
   "outputs": [
    {
     "data": {
      "text/html": [
       "<div>\n",
       "<style scoped>\n",
       "    .dataframe tbody tr th:only-of-type {\n",
       "        vertical-align: middle;\n",
       "    }\n",
       "\n",
       "    .dataframe tbody tr th {\n",
       "        vertical-align: top;\n",
       "    }\n",
       "\n",
       "    .dataframe thead th {\n",
       "        text-align: right;\n",
       "    }\n",
       "</style>\n",
       "<table border=\"1\" class=\"dataframe\">\n",
       "  <thead>\n",
       "    <tr style=\"text-align: right;\">\n",
       "      <th></th>\n",
       "      <th>ZIP</th>\n",
       "      <th>rent</th>\n",
       "      <th>lat</th>\n",
       "      <th>lng</th>\n",
       "      <th>COMMUNITY</th>\n",
       "    </tr>\n",
       "  </thead>\n",
       "  <tbody>\n",
       "    <tr>\n",
       "      <th>0</th>\n",
       "      <td>91910</td>\n",
       "      <td>2117.0</td>\n",
       "      <td>32.638654</td>\n",
       "      <td>-117.06686</td>\n",
       "      <td>Chula Vista</td>\n",
       "    </tr>\n",
       "    <tr>\n",
       "      <th>1</th>\n",
       "      <td>92126</td>\n",
       "      <td>2463.0</td>\n",
       "      <td>32.914346</td>\n",
       "      <td>-117.14116</td>\n",
       "      <td>San Diego</td>\n",
       "    </tr>\n",
       "    <tr>\n",
       "      <th>2</th>\n",
       "      <td>91911</td>\n",
       "      <td>2037.0</td>\n",
       "      <td>32.608799</td>\n",
       "      <td>-117.06070</td>\n",
       "      <td>Chula Vista</td>\n",
       "    </tr>\n",
       "    <tr>\n",
       "      <th>3</th>\n",
       "      <td>92101</td>\n",
       "      <td>2340.0</td>\n",
       "      <td>32.719601</td>\n",
       "      <td>-117.16246</td>\n",
       "      <td>San Diego</td>\n",
       "    </tr>\n",
       "    <tr>\n",
       "      <th>4</th>\n",
       "      <td>92109</td>\n",
       "      <td>2322.0</td>\n",
       "      <td>32.791246</td>\n",
       "      <td>-117.24343</td>\n",
       "      <td>San Diego</td>\n",
       "    </tr>\n",
       "  </tbody>\n",
       "</table>\n",
       "</div>"
      ],
      "text/plain": [
       "     ZIP    rent        lat        lng    COMMUNITY\n",
       "0  91910  2117.0  32.638654 -117.06686  Chula Vista\n",
       "1  92126  2463.0  32.914346 -117.14116    San Diego\n",
       "2  91911  2037.0  32.608799 -117.06070  Chula Vista\n",
       "3  92101  2340.0  32.719601 -117.16246    San Diego\n",
       "4  92109  2322.0  32.791246 -117.24343    San Diego"
      ]
     },
     "execution_count": 14,
     "metadata": {},
     "output_type": "execute_result"
    }
   ],
   "source": [
    "# convert ZIP's data type to 'object' first\n",
    "final_df = merged_df\n",
    "final_df['ZIP'] = final_df['ZIP'].astype('object')\n",
    "final_df.head()"
   ]
  },
  {
   "cell_type": "markdown",
   "metadata": {},
   "source": [
    "3) Now let's search up to 50 venues in each region (500m radius from UCSD)  <br>\n",
    "(The only issue with free Foursquare API is that the limit of query result is set to 50...)"
   ]
  },
  {
   "cell_type": "code",
   "execution_count": 23,
   "metadata": {},
   "outputs": [
    {
     "ename": "KeyError",
     "evalue": "'venues'",
     "output_type": "error",
     "traceback": [
      "\u001b[1;31m---------------------------------------------------------------------------\u001b[0m",
      "\u001b[1;31mKeyError\u001b[0m                                  Traceback (most recent call last)",
      "\u001b[1;32m<ipython-input-23-018371c887ff>\u001b[0m in \u001b[0;36m<module>\u001b[1;34m\u001b[0m\n\u001b[0;32m     10\u001b[0m     \u001b[0murl\u001b[0m \u001b[1;33m=\u001b[0m \u001b[1;34m'https://api.foursquare.com/v2/venues/search?client_id={}&client_secret={}&ll={},{}&oauth_token={}&v={}&query={}&radius={}&limit={}'\u001b[0m\u001b[1;33m.\u001b[0m\u001b[0mformat\u001b[0m\u001b[1;33m(\u001b[0m\u001b[0mCLIENT_ID\u001b[0m\u001b[1;33m,\u001b[0m \u001b[0mCLIENT_SECRET\u001b[0m\u001b[1;33m,\u001b[0m \u001b[0mlatitude\u001b[0m\u001b[1;33m,\u001b[0m \u001b[0mlongitude\u001b[0m\u001b[1;33m,\u001b[0m \u001b[0mACCESS_TOKEN\u001b[0m\u001b[1;33m,\u001b[0m \u001b[0mVERSION\u001b[0m\u001b[1;33m,\u001b[0m \u001b[0msearch_query\u001b[0m\u001b[1;33m,\u001b[0m \u001b[0mradius\u001b[0m\u001b[1;33m,\u001b[0m \u001b[0mLIMIT\u001b[0m\u001b[1;33m)\u001b[0m\u001b[1;33m\u001b[0m\u001b[1;33m\u001b[0m\u001b[0m\n\u001b[0;32m     11\u001b[0m     \u001b[0mresults\u001b[0m \u001b[1;33m=\u001b[0m \u001b[0mrequests\u001b[0m\u001b[1;33m.\u001b[0m\u001b[0mget\u001b[0m\u001b[1;33m(\u001b[0m\u001b[0murl\u001b[0m\u001b[1;33m)\u001b[0m\u001b[1;33m.\u001b[0m\u001b[0mjson\u001b[0m\u001b[1;33m(\u001b[0m\u001b[1;33m)\u001b[0m\u001b[1;33m\u001b[0m\u001b[1;33m\u001b[0m\u001b[0m\n\u001b[1;32m---> 12\u001b[1;33m     \u001b[0mvenues\u001b[0m \u001b[1;33m=\u001b[0m \u001b[0mresults\u001b[0m\u001b[1;33m[\u001b[0m\u001b[1;34m'response'\u001b[0m\u001b[1;33m]\u001b[0m\u001b[1;33m[\u001b[0m\u001b[1;34m'venues'\u001b[0m\u001b[1;33m]\u001b[0m\u001b[1;33m\u001b[0m\u001b[1;33m\u001b[0m\u001b[0m\n\u001b[0m\u001b[0;32m     13\u001b[0m     \u001b[0mtemp_df\u001b[0m \u001b[1;33m=\u001b[0m \u001b[0mjson_normalize\u001b[0m\u001b[1;33m(\u001b[0m\u001b[0mvenues\u001b[0m\u001b[1;33m)\u001b[0m\u001b[1;33m\u001b[0m\u001b[1;33m\u001b[0m\u001b[0m\n\u001b[0;32m     14\u001b[0m     \u001b[0mtemp_df\u001b[0m \u001b[1;33m=\u001b[0m \u001b[0mtemp_df\u001b[0m\u001b[1;33m[\u001b[0m\u001b[1;33m[\u001b[0m\u001b[1;34m'name'\u001b[0m\u001b[1;33m,\u001b[0m \u001b[1;34m'categories'\u001b[0m\u001b[1;33m,\u001b[0m \u001b[1;34m'location.postalCode'\u001b[0m\u001b[1;33m]\u001b[0m\u001b[1;33m]\u001b[0m\u001b[1;33m\u001b[0m\u001b[1;33m\u001b[0m\u001b[0m\n",
      "\u001b[1;31mKeyError\u001b[0m: 'venues'"
     ]
    }
   ],
   "source": [
    "search_query = ''\n",
    "radius = 500\n",
    "LIMIT = 50\n",
    "vdf = pd.DataFrame([])\n",
    "\n",
    "# create a new dataframe with venues in each region\n",
    "for lat, lng in zip(final_df['lat'], final_df['lng']):\n",
    "    latitude = lat\n",
    "    longitude = lng\n",
    "    url = 'https://api.foursquare.com/v2/venues/search?client_id={}&client_secret={}&ll={},{}&oauth_token={}&v={}&query={}&radius={}&limit={}'.format(CLIENT_ID, CLIENT_SECRET, latitude, longitude, ACCESS_TOKEN, VERSION, search_query, radius, LIMIT)\n",
    "    results = requests.get(url).json()\n",
    "    venues = results['response']['venues']\n",
    "    temp_df = json_normalize(venues)\n",
    "    temp_df = temp_df[['name', 'categories', 'location.postalCode']]\n",
    "    temp_df.columns = ['venue', 'categories', 'ZIP']\n",
    "    vdf = vdf.append(temp_df)"
   ]
  },
  {
   "cell_type": "code",
   "execution_count": 19,
   "metadata": {},
   "outputs": [
    {
     "data": {
      "text/html": [
       "<div>\n",
       "<style scoped>\n",
       "    .dataframe tbody tr th:only-of-type {\n",
       "        vertical-align: middle;\n",
       "    }\n",
       "\n",
       "    .dataframe tbody tr th {\n",
       "        vertical-align: top;\n",
       "    }\n",
       "\n",
       "    .dataframe thead th {\n",
       "        text-align: right;\n",
       "    }\n",
       "</style>\n",
       "<table border=\"1\" class=\"dataframe\">\n",
       "  <thead>\n",
       "    <tr style=\"text-align: right;\">\n",
       "      <th></th>\n",
       "    </tr>\n",
       "  </thead>\n",
       "  <tbody>\n",
       "  </tbody>\n",
       "</table>\n",
       "</div>"
      ],
      "text/plain": [
       "Empty DataFrame\n",
       "Columns: []\n",
       "Index: []"
      ]
     },
     "execution_count": 19,
     "metadata": {},
     "output_type": "execute_result"
    }
   ],
   "source": [
    "vdf.head()"
   ]
  },
  {
   "cell_type": "code",
   "execution_count": 193,
   "metadata": {},
   "outputs": [],
   "source": [
    "search_query = ''\n",
    "radius = 100"
   ]
  },
  {
   "cell_type": "code",
   "execution_count": 22,
   "metadata": {},
   "outputs": [
    {
     "data": {
      "text/plain": [
       "{'meta': {'code': 403,\n",
       "  'errorType': 'rate_limit_exceeded',\n",
       "  'errorDetail': 'Quota exceeded',\n",
       "  'requestId': '5fc443d29ec77475404dc3a5'},\n",
       " 'response': {}}"
      ]
     },
     "execution_count": 22,
     "metadata": {},
     "output_type": "execute_result"
    }
   ],
   "source": [
    "url = 'https://api.foursquare.com/v2/venues/search?client_id={}&client_secret={}&ll={},{}&oauth_token={}&v={}&query={}&radius={}&limit={}'.format(CLIENT_ID, CLIENT_SECRET, latitude, longitude, ACCESS_TOKEN, VERSION, search_query, radius, LIMIT)\n",
    "\n",
    "results = requests.get(url).json()"
   ]
  },
  {
   "cell_type": "code",
   "execution_count": 21,
   "metadata": {},
   "outputs": [
    {
     "ename": "KeyError",
     "evalue": "'venues'",
     "output_type": "error",
     "traceback": [
      "\u001b[1;31m---------------------------------------------------------------------------\u001b[0m",
      "\u001b[1;31mKeyError\u001b[0m                                  Traceback (most recent call last)",
      "\u001b[1;32m<ipython-input-21-26c4ffa0f0c5>\u001b[0m in \u001b[0;36m<module>\u001b[1;34m\u001b[0m\n\u001b[0;32m      1\u001b[0m \u001b[1;31m# assign relevant part of JSON to venues\u001b[0m\u001b[1;33m\u001b[0m\u001b[1;33m\u001b[0m\u001b[1;33m\u001b[0m\u001b[0m\n\u001b[1;32m----> 2\u001b[1;33m \u001b[0mvv\u001b[0m \u001b[1;33m=\u001b[0m \u001b[0mresults\u001b[0m\u001b[1;33m[\u001b[0m\u001b[1;34m'response'\u001b[0m\u001b[1;33m]\u001b[0m\u001b[1;33m[\u001b[0m\u001b[1;34m'venues'\u001b[0m\u001b[1;33m]\u001b[0m\u001b[1;33m\u001b[0m\u001b[1;33m\u001b[0m\u001b[0m\n\u001b[0m\u001b[0;32m      3\u001b[0m \u001b[1;31m# tranform venues into a dataframe\u001b[0m\u001b[1;33m\u001b[0m\u001b[1;33m\u001b[0m\u001b[1;33m\u001b[0m\u001b[0m\n\u001b[0;32m      4\u001b[0m \u001b[0mdf\u001b[0m \u001b[1;33m=\u001b[0m \u001b[0mjson_normalize\u001b[0m\u001b[1;33m(\u001b[0m\u001b[0mvenues\u001b[0m\u001b[1;33m)\u001b[0m\u001b[1;33m\u001b[0m\u001b[1;33m\u001b[0m\u001b[0m\n\u001b[0;32m      5\u001b[0m \u001b[1;31m#df['location.postalCode']\u001b[0m\u001b[1;33m\u001b[0m\u001b[1;33m\u001b[0m\u001b[1;33m\u001b[0m\u001b[0m\n",
      "\u001b[1;31mKeyError\u001b[0m: 'venues'"
     ]
    }
   ],
   "source": [
    "# assign relevant part of JSON to venues\n",
    "venues = results['response']['venues']\n",
    "# tranform venues into a dataframe\n",
    "df = json_normalize(venues)\n",
    "#df['location.postalCode']\n",
    "df.categories"
   ]
  },
  {
   "cell_type": "code",
   "execution_count": 171,
   "metadata": {},
   "outputs": [
    {
     "ename": "KeyError",
     "evalue": "\"None of [Index(['name', 'categories', 'id'], dtype='object')] are in the [columns]\"",
     "output_type": "error",
     "traceback": [
      "\u001b[1;31m---------------------------------------------------------------------------\u001b[0m",
      "\u001b[1;31mKeyError\u001b[0m                                  Traceback (most recent call last)",
      "\u001b[1;32m<ipython-input-171-361360e85b5b>\u001b[0m in \u001b[0;36m<module>\u001b[1;34m\u001b[0m\n\u001b[0;32m      1\u001b[0m \u001b[1;31m# keep only columns that include venue name, and anything that is associated with location\u001b[0m\u001b[1;33m\u001b[0m\u001b[1;33m\u001b[0m\u001b[1;33m\u001b[0m\u001b[0m\n\u001b[0;32m      2\u001b[0m \u001b[0mfiltered_columns\u001b[0m \u001b[1;33m=\u001b[0m \u001b[1;33m[\u001b[0m\u001b[1;34m'name'\u001b[0m\u001b[1;33m,\u001b[0m \u001b[1;34m'categories'\u001b[0m\u001b[1;33m]\u001b[0m \u001b[1;33m+\u001b[0m \u001b[1;33m[\u001b[0m\u001b[0mcol\u001b[0m \u001b[1;32mfor\u001b[0m \u001b[0mcol\u001b[0m \u001b[1;32min\u001b[0m \u001b[0mdf\u001b[0m\u001b[1;33m.\u001b[0m\u001b[0mcolumns\u001b[0m \u001b[1;32mif\u001b[0m \u001b[0mcol\u001b[0m\u001b[1;33m.\u001b[0m\u001b[0mstartswith\u001b[0m\u001b[1;33m(\u001b[0m\u001b[1;34m'location.'\u001b[0m\u001b[1;33m)\u001b[0m\u001b[1;33m]\u001b[0m \u001b[1;33m+\u001b[0m \u001b[1;33m[\u001b[0m\u001b[1;34m'id'\u001b[0m\u001b[1;33m]\u001b[0m\u001b[1;33m\u001b[0m\u001b[1;33m\u001b[0m\u001b[0m\n\u001b[1;32m----> 3\u001b[1;33m \u001b[0mdf_update\u001b[0m \u001b[1;33m=\u001b[0m \u001b[0mdf\u001b[0m\u001b[1;33m.\u001b[0m\u001b[0mloc\u001b[0m\u001b[1;33m[\u001b[0m\u001b[1;33m:\u001b[0m\u001b[1;33m,\u001b[0m \u001b[0mfiltered_columns\u001b[0m\u001b[1;33m]\u001b[0m\u001b[1;33m\u001b[0m\u001b[1;33m\u001b[0m\u001b[0m\n\u001b[0m\u001b[0;32m      4\u001b[0m \u001b[1;33m\u001b[0m\u001b[0m\n\u001b[0;32m      5\u001b[0m \u001b[1;31m# function that extracts the category of the venue\u001b[0m\u001b[1;33m\u001b[0m\u001b[1;33m\u001b[0m\u001b[1;33m\u001b[0m\u001b[0m\n",
      "\u001b[1;32mC:\\ProgramData\\Anaconda3\\lib\\site-packages\\pandas\\core\\indexing.py\u001b[0m in \u001b[0;36m__getitem__\u001b[1;34m(self, key)\u001b[0m\n\u001b[0;32m    871\u001b[0m                     \u001b[1;31m# AttributeError for IntervalTree get_value\u001b[0m\u001b[1;33m\u001b[0m\u001b[1;33m\u001b[0m\u001b[1;33m\u001b[0m\u001b[0m\n\u001b[0;32m    872\u001b[0m                     \u001b[1;32mpass\u001b[0m\u001b[1;33m\u001b[0m\u001b[1;33m\u001b[0m\u001b[0m\n\u001b[1;32m--> 873\u001b[1;33m             \u001b[1;32mreturn\u001b[0m \u001b[0mself\u001b[0m\u001b[1;33m.\u001b[0m\u001b[0m_getitem_tuple\u001b[0m\u001b[1;33m(\u001b[0m\u001b[0mkey\u001b[0m\u001b[1;33m)\u001b[0m\u001b[1;33m\u001b[0m\u001b[1;33m\u001b[0m\u001b[0m\n\u001b[0m\u001b[0;32m    874\u001b[0m         \u001b[1;32melse\u001b[0m\u001b[1;33m:\u001b[0m\u001b[1;33m\u001b[0m\u001b[1;33m\u001b[0m\u001b[0m\n\u001b[0;32m    875\u001b[0m             \u001b[1;31m# we by definition only have the 0th axis\u001b[0m\u001b[1;33m\u001b[0m\u001b[1;33m\u001b[0m\u001b[1;33m\u001b[0m\u001b[0m\n",
      "\u001b[1;32mC:\\ProgramData\\Anaconda3\\lib\\site-packages\\pandas\\core\\indexing.py\u001b[0m in \u001b[0;36m_getitem_tuple\u001b[1;34m(self, tup)\u001b[0m\n\u001b[0;32m   1053\u001b[0m             \u001b[1;32mreturn\u001b[0m \u001b[0mself\u001b[0m\u001b[1;33m.\u001b[0m\u001b[0m_multi_take\u001b[0m\u001b[1;33m(\u001b[0m\u001b[0mtup\u001b[0m\u001b[1;33m)\u001b[0m\u001b[1;33m\u001b[0m\u001b[1;33m\u001b[0m\u001b[0m\n\u001b[0;32m   1054\u001b[0m \u001b[1;33m\u001b[0m\u001b[0m\n\u001b[1;32m-> 1055\u001b[1;33m         \u001b[1;32mreturn\u001b[0m \u001b[0mself\u001b[0m\u001b[1;33m.\u001b[0m\u001b[0m_getitem_tuple_same_dim\u001b[0m\u001b[1;33m(\u001b[0m\u001b[0mtup\u001b[0m\u001b[1;33m)\u001b[0m\u001b[1;33m\u001b[0m\u001b[1;33m\u001b[0m\u001b[0m\n\u001b[0m\u001b[0;32m   1056\u001b[0m \u001b[1;33m\u001b[0m\u001b[0m\n\u001b[0;32m   1057\u001b[0m     \u001b[1;32mdef\u001b[0m \u001b[0m_get_label\u001b[0m\u001b[1;33m(\u001b[0m\u001b[0mself\u001b[0m\u001b[1;33m,\u001b[0m \u001b[0mlabel\u001b[0m\u001b[1;33m,\u001b[0m \u001b[0maxis\u001b[0m\u001b[1;33m:\u001b[0m \u001b[0mint\u001b[0m\u001b[1;33m)\u001b[0m\u001b[1;33m:\u001b[0m\u001b[1;33m\u001b[0m\u001b[1;33m\u001b[0m\u001b[0m\n",
      "\u001b[1;32mC:\\ProgramData\\Anaconda3\\lib\\site-packages\\pandas\\core\\indexing.py\u001b[0m in \u001b[0;36m_getitem_tuple_same_dim\u001b[1;34m(self, tup)\u001b[0m\n\u001b[0;32m    748\u001b[0m                 \u001b[1;32mcontinue\u001b[0m\u001b[1;33m\u001b[0m\u001b[1;33m\u001b[0m\u001b[0m\n\u001b[0;32m    749\u001b[0m \u001b[1;33m\u001b[0m\u001b[0m\n\u001b[1;32m--> 750\u001b[1;33m             \u001b[0mretval\u001b[0m \u001b[1;33m=\u001b[0m \u001b[0mgetattr\u001b[0m\u001b[1;33m(\u001b[0m\u001b[0mretval\u001b[0m\u001b[1;33m,\u001b[0m \u001b[0mself\u001b[0m\u001b[1;33m.\u001b[0m\u001b[0mname\u001b[0m\u001b[1;33m)\u001b[0m\u001b[1;33m.\u001b[0m\u001b[0m_getitem_axis\u001b[0m\u001b[1;33m(\u001b[0m\u001b[0mkey\u001b[0m\u001b[1;33m,\u001b[0m \u001b[0maxis\u001b[0m\u001b[1;33m=\u001b[0m\u001b[0mi\u001b[0m\u001b[1;33m)\u001b[0m\u001b[1;33m\u001b[0m\u001b[1;33m\u001b[0m\u001b[0m\n\u001b[0m\u001b[0;32m    751\u001b[0m             \u001b[1;31m# We should never have retval.ndim < self.ndim, as that should\u001b[0m\u001b[1;33m\u001b[0m\u001b[1;33m\u001b[0m\u001b[1;33m\u001b[0m\u001b[0m\n\u001b[0;32m    752\u001b[0m             \u001b[1;31m#  be handled by the _getitem_lowerdim call above.\u001b[0m\u001b[1;33m\u001b[0m\u001b[1;33m\u001b[0m\u001b[1;33m\u001b[0m\u001b[0m\n",
      "\u001b[1;32mC:\\ProgramData\\Anaconda3\\lib\\site-packages\\pandas\\core\\indexing.py\u001b[0m in \u001b[0;36m_getitem_axis\u001b[1;34m(self, key, axis)\u001b[0m\n\u001b[0;32m   1097\u001b[0m                     \u001b[1;32mraise\u001b[0m \u001b[0mValueError\u001b[0m\u001b[1;33m(\u001b[0m\u001b[1;34m\"Cannot index with multidimensional key\"\u001b[0m\u001b[1;33m)\u001b[0m\u001b[1;33m\u001b[0m\u001b[1;33m\u001b[0m\u001b[0m\n\u001b[0;32m   1098\u001b[0m \u001b[1;33m\u001b[0m\u001b[0m\n\u001b[1;32m-> 1099\u001b[1;33m                 \u001b[1;32mreturn\u001b[0m \u001b[0mself\u001b[0m\u001b[1;33m.\u001b[0m\u001b[0m_getitem_iterable\u001b[0m\u001b[1;33m(\u001b[0m\u001b[0mkey\u001b[0m\u001b[1;33m,\u001b[0m \u001b[0maxis\u001b[0m\u001b[1;33m=\u001b[0m\u001b[0maxis\u001b[0m\u001b[1;33m)\u001b[0m\u001b[1;33m\u001b[0m\u001b[1;33m\u001b[0m\u001b[0m\n\u001b[0m\u001b[0;32m   1100\u001b[0m \u001b[1;33m\u001b[0m\u001b[0m\n\u001b[0;32m   1101\u001b[0m             \u001b[1;31m# nested tuple slicing\u001b[0m\u001b[1;33m\u001b[0m\u001b[1;33m\u001b[0m\u001b[1;33m\u001b[0m\u001b[0m\n",
      "\u001b[1;32mC:\\ProgramData\\Anaconda3\\lib\\site-packages\\pandas\\core\\indexing.py\u001b[0m in \u001b[0;36m_getitem_iterable\u001b[1;34m(self, key, axis)\u001b[0m\n\u001b[0;32m   1035\u001b[0m \u001b[1;33m\u001b[0m\u001b[0m\n\u001b[0;32m   1036\u001b[0m         \u001b[1;31m# A collection of keys\u001b[0m\u001b[1;33m\u001b[0m\u001b[1;33m\u001b[0m\u001b[1;33m\u001b[0m\u001b[0m\n\u001b[1;32m-> 1037\u001b[1;33m         \u001b[0mkeyarr\u001b[0m\u001b[1;33m,\u001b[0m \u001b[0mindexer\u001b[0m \u001b[1;33m=\u001b[0m \u001b[0mself\u001b[0m\u001b[1;33m.\u001b[0m\u001b[0m_get_listlike_indexer\u001b[0m\u001b[1;33m(\u001b[0m\u001b[0mkey\u001b[0m\u001b[1;33m,\u001b[0m \u001b[0maxis\u001b[0m\u001b[1;33m,\u001b[0m \u001b[0mraise_missing\u001b[0m\u001b[1;33m=\u001b[0m\u001b[1;32mFalse\u001b[0m\u001b[1;33m)\u001b[0m\u001b[1;33m\u001b[0m\u001b[1;33m\u001b[0m\u001b[0m\n\u001b[0m\u001b[0;32m   1038\u001b[0m         return self.obj._reindex_with_indexers(\n\u001b[0;32m   1039\u001b[0m             \u001b[1;33m{\u001b[0m\u001b[0maxis\u001b[0m\u001b[1;33m:\u001b[0m \u001b[1;33m[\u001b[0m\u001b[0mkeyarr\u001b[0m\u001b[1;33m,\u001b[0m \u001b[0mindexer\u001b[0m\u001b[1;33m]\u001b[0m\u001b[1;33m}\u001b[0m\u001b[1;33m,\u001b[0m \u001b[0mcopy\u001b[0m\u001b[1;33m=\u001b[0m\u001b[1;32mTrue\u001b[0m\u001b[1;33m,\u001b[0m \u001b[0mallow_dups\u001b[0m\u001b[1;33m=\u001b[0m\u001b[1;32mTrue\u001b[0m\u001b[1;33m\u001b[0m\u001b[1;33m\u001b[0m\u001b[0m\n",
      "\u001b[1;32mC:\\ProgramData\\Anaconda3\\lib\\site-packages\\pandas\\core\\indexing.py\u001b[0m in \u001b[0;36m_get_listlike_indexer\u001b[1;34m(self, key, axis, raise_missing)\u001b[0m\n\u001b[0;32m   1252\u001b[0m             \u001b[0mkeyarr\u001b[0m\u001b[1;33m,\u001b[0m \u001b[0mindexer\u001b[0m\u001b[1;33m,\u001b[0m \u001b[0mnew_indexer\u001b[0m \u001b[1;33m=\u001b[0m \u001b[0max\u001b[0m\u001b[1;33m.\u001b[0m\u001b[0m_reindex_non_unique\u001b[0m\u001b[1;33m(\u001b[0m\u001b[0mkeyarr\u001b[0m\u001b[1;33m)\u001b[0m\u001b[1;33m\u001b[0m\u001b[1;33m\u001b[0m\u001b[0m\n\u001b[0;32m   1253\u001b[0m \u001b[1;33m\u001b[0m\u001b[0m\n\u001b[1;32m-> 1254\u001b[1;33m         \u001b[0mself\u001b[0m\u001b[1;33m.\u001b[0m\u001b[0m_validate_read_indexer\u001b[0m\u001b[1;33m(\u001b[0m\u001b[0mkeyarr\u001b[0m\u001b[1;33m,\u001b[0m \u001b[0mindexer\u001b[0m\u001b[1;33m,\u001b[0m \u001b[0maxis\u001b[0m\u001b[1;33m,\u001b[0m \u001b[0mraise_missing\u001b[0m\u001b[1;33m=\u001b[0m\u001b[0mraise_missing\u001b[0m\u001b[1;33m)\u001b[0m\u001b[1;33m\u001b[0m\u001b[1;33m\u001b[0m\u001b[0m\n\u001b[0m\u001b[0;32m   1255\u001b[0m         \u001b[1;32mreturn\u001b[0m \u001b[0mkeyarr\u001b[0m\u001b[1;33m,\u001b[0m \u001b[0mindexer\u001b[0m\u001b[1;33m\u001b[0m\u001b[1;33m\u001b[0m\u001b[0m\n\u001b[0;32m   1256\u001b[0m \u001b[1;33m\u001b[0m\u001b[0m\n",
      "\u001b[1;32mC:\\ProgramData\\Anaconda3\\lib\\site-packages\\pandas\\core\\indexing.py\u001b[0m in \u001b[0;36m_validate_read_indexer\u001b[1;34m(self, key, indexer, axis, raise_missing)\u001b[0m\n\u001b[0;32m   1296\u001b[0m             \u001b[1;32mif\u001b[0m \u001b[0mmissing\u001b[0m \u001b[1;33m==\u001b[0m \u001b[0mlen\u001b[0m\u001b[1;33m(\u001b[0m\u001b[0mindexer\u001b[0m\u001b[1;33m)\u001b[0m\u001b[1;33m:\u001b[0m\u001b[1;33m\u001b[0m\u001b[1;33m\u001b[0m\u001b[0m\n\u001b[0;32m   1297\u001b[0m                 \u001b[0maxis_name\u001b[0m \u001b[1;33m=\u001b[0m \u001b[0mself\u001b[0m\u001b[1;33m.\u001b[0m\u001b[0mobj\u001b[0m\u001b[1;33m.\u001b[0m\u001b[0m_get_axis_name\u001b[0m\u001b[1;33m(\u001b[0m\u001b[0maxis\u001b[0m\u001b[1;33m)\u001b[0m\u001b[1;33m\u001b[0m\u001b[1;33m\u001b[0m\u001b[0m\n\u001b[1;32m-> 1298\u001b[1;33m                 \u001b[1;32mraise\u001b[0m \u001b[0mKeyError\u001b[0m\u001b[1;33m(\u001b[0m\u001b[1;34mf\"None of [{key}] are in the [{axis_name}]\"\u001b[0m\u001b[1;33m)\u001b[0m\u001b[1;33m\u001b[0m\u001b[1;33m\u001b[0m\u001b[0m\n\u001b[0m\u001b[0;32m   1299\u001b[0m \u001b[1;33m\u001b[0m\u001b[0m\n\u001b[0;32m   1300\u001b[0m             \u001b[1;31m# We (temporarily) allow for some missing keys with .loc, except in\u001b[0m\u001b[1;33m\u001b[0m\u001b[1;33m\u001b[0m\u001b[1;33m\u001b[0m\u001b[0m\n",
      "\u001b[1;31mKeyError\u001b[0m: \"None of [Index(['name', 'categories', 'id'], dtype='object')] are in the [columns]\""
     ]
    }
   ],
   "source": [
    "# keep only columns that include venue name, and anything that is associated with location\n",
    "filtered_columns = ['name', 'categories'] + [col for col in df.columns if col.startswith('location.')] + ['id']\n",
    "df_update = df.loc[:, filtered_columns]\n",
    "\n",
    "# function that extracts the category of the venue\n",
    "def get_category_type(row):\n",
    "    try:\n",
    "        categories_list = row['categories']\n",
    "    except:\n",
    "        categories_list = row['venue.categories']\n",
    "        \n",
    "    if len(categories_list) == 0:\n",
    "        return None\n",
    "    else:\n",
    "        return categories_list[0]['name']\n",
    "\n",
    "# filter the category for each row\n",
    "df_update['categories'] = df_update.apply(get_category_type, axis=1)\n",
    "\n",
    "# clean column names by keeping only last term\n",
    "df_update.columns = [column.split('.')[-1] for column in df_update.columns]\n",
    "\n"
   ]
  },
  {
   "cell_type": "code",
   "execution_count": 52,
   "metadata": {},
   "outputs": [
    {
     "data": {
      "text/html": [
       "<div>\n",
       "<style scoped>\n",
       "    .dataframe tbody tr th:only-of-type {\n",
       "        vertical-align: middle;\n",
       "    }\n",
       "\n",
       "    .dataframe tbody tr th {\n",
       "        vertical-align: top;\n",
       "    }\n",
       "\n",
       "    .dataframe thead th {\n",
       "        text-align: right;\n",
       "    }\n",
       "</style>\n",
       "<table border=\"1\" class=\"dataframe\">\n",
       "  <thead>\n",
       "    <tr style=\"text-align: right;\">\n",
       "      <th></th>\n",
       "      <th>name</th>\n",
       "      <th>categories</th>\n",
       "      <th>address</th>\n",
       "      <th>crossStreet</th>\n",
       "      <th>lat</th>\n",
       "      <th>lng</th>\n",
       "      <th>labeledLatLngs</th>\n",
       "      <th>distance</th>\n",
       "      <th>postalCode</th>\n",
       "      <th>cc</th>\n",
       "      <th>city</th>\n",
       "      <th>state</th>\n",
       "      <th>country</th>\n",
       "      <th>formattedAddress</th>\n",
       "      <th>id</th>\n",
       "    </tr>\n",
       "  </thead>\n",
       "  <tbody>\n",
       "    <tr>\n",
       "      <th>0</th>\n",
       "      <td>BJ's Restaurant &amp; Brewhouse</td>\n",
       "      <td>Brewery</td>\n",
       "      <td>8785 Villa La Jolla Dr</td>\n",
       "      <td>at Nobel Dr</td>\n",
       "      <td>32.868009</td>\n",
       "      <td>-117.233232</td>\n",
       "      <td>[{'label': 'display', 'lat': 32.86800867565035...</td>\n",
       "      <td>1278</td>\n",
       "      <td>92037</td>\n",
       "      <td>US</td>\n",
       "      <td>San Diego</td>\n",
       "      <td>CA</td>\n",
       "      <td>United States</td>\n",
       "      <td>[8785 Villa La Jolla Dr (at Nobel Dr), San Die...</td>\n",
       "      <td>58cdfbba110d037d32772e8c</td>\n",
       "    </tr>\n",
       "    <tr>\n",
       "      <th>1</th>\n",
       "      <td>Leucadia Pizzeria &amp; Italian Restaurant</td>\n",
       "      <td>Italian Restaurant</td>\n",
       "      <td>7748 Regents Rd Ste 303</td>\n",
       "      <td>at Arriba St</td>\n",
       "      <td>32.862367</td>\n",
       "      <td>-117.224743</td>\n",
       "      <td>[{'label': 'display', 'lat': 32.86236681380613...</td>\n",
       "      <td>1982</td>\n",
       "      <td>92122</td>\n",
       "      <td>US</td>\n",
       "      <td>San Diego</td>\n",
       "      <td>CA</td>\n",
       "      <td>United States</td>\n",
       "      <td>[7748 Regents Rd Ste 303 (at Arriba St), San D...</td>\n",
       "      <td>43f66fd0f964a520b32f1fe3</td>\n",
       "    </tr>\n",
       "    <tr>\n",
       "      <th>2</th>\n",
       "      <td>Shores Restaurant</td>\n",
       "      <td>New American Restaurant</td>\n",
       "      <td>8110 Camino Del Oro</td>\n",
       "      <td>NaN</td>\n",
       "      <td>32.855336</td>\n",
       "      <td>-117.258289</td>\n",
       "      <td>[{'label': 'display', 'lat': 32.85533644046734...</td>\n",
       "      <td>3689</td>\n",
       "      <td>92037</td>\n",
       "      <td>US</td>\n",
       "      <td>La Jolla</td>\n",
       "      <td>CA</td>\n",
       "      <td>United States</td>\n",
       "      <td>[8110 Camino Del Oro, La Jolla, CA 92037]</td>\n",
       "      <td>4c424971d7fad13ad4f308da</td>\n",
       "    </tr>\n",
       "    <tr>\n",
       "      <th>3</th>\n",
       "      <td>Indulge Restaurant &amp; Lounge</td>\n",
       "      <td>New American Restaurant</td>\n",
       "      <td>4550 La Jolla Village Dr</td>\n",
       "      <td>NaN</td>\n",
       "      <td>32.874462</td>\n",
       "      <td>-117.208366</td>\n",
       "      <td>[{'label': 'display', 'lat': 32.8744618808593,...</td>\n",
       "      <td>2194</td>\n",
       "      <td>92122</td>\n",
       "      <td>US</td>\n",
       "      <td>San Diego</td>\n",
       "      <td>CA</td>\n",
       "      <td>United States</td>\n",
       "      <td>[4550 La Jolla Village Dr, San Diego, CA 92122]</td>\n",
       "      <td>4b22b29cf964a520074c24e3</td>\n",
       "    </tr>\n",
       "    <tr>\n",
       "      <th>4</th>\n",
       "      <td>Barcino Grill Restaurant In Hyatt Regency Aven...</td>\n",
       "      <td>American Restaurant</td>\n",
       "      <td>3777 La Jolla Village Dr</td>\n",
       "      <td>btw I-5 and Lebon</td>\n",
       "      <td>32.870930</td>\n",
       "      <td>-117.225639</td>\n",
       "      <td>[{'label': 'display', 'lat': 32.87092971801758...</td>\n",
       "      <td>1067</td>\n",
       "      <td>92037</td>\n",
       "      <td>US</td>\n",
       "      <td>La Jolla</td>\n",
       "      <td>CA</td>\n",
       "      <td>United States</td>\n",
       "      <td>[3777 La Jolla Village Dr (btw I-5 and Lebon),...</td>\n",
       "      <td>4c55a45006901b8d5474d44d</td>\n",
       "    </tr>\n",
       "  </tbody>\n",
       "</table>\n",
       "</div>"
      ],
      "text/plain": [
       "                                                name               categories  \\\n",
       "0                        BJ's Restaurant & Brewhouse                  Brewery   \n",
       "1             Leucadia Pizzeria & Italian Restaurant       Italian Restaurant   \n",
       "2                                  Shores Restaurant  New American Restaurant   \n",
       "3                        Indulge Restaurant & Lounge  New American Restaurant   \n",
       "4  Barcino Grill Restaurant In Hyatt Regency Aven...      American Restaurant   \n",
       "\n",
       "                    address        crossStreet        lat         lng  \\\n",
       "0    8785 Villa La Jolla Dr        at Nobel Dr  32.868009 -117.233232   \n",
       "1   7748 Regents Rd Ste 303       at Arriba St  32.862367 -117.224743   \n",
       "2       8110 Camino Del Oro                NaN  32.855336 -117.258289   \n",
       "3  4550 La Jolla Village Dr                NaN  32.874462 -117.208366   \n",
       "4  3777 La Jolla Village Dr  btw I-5 and Lebon  32.870930 -117.225639   \n",
       "\n",
       "                                      labeledLatLngs  distance postalCode  cc  \\\n",
       "0  [{'label': 'display', 'lat': 32.86800867565035...      1278      92037  US   \n",
       "1  [{'label': 'display', 'lat': 32.86236681380613...      1982      92122  US   \n",
       "2  [{'label': 'display', 'lat': 32.85533644046734...      3689      92037  US   \n",
       "3  [{'label': 'display', 'lat': 32.8744618808593,...      2194      92122  US   \n",
       "4  [{'label': 'display', 'lat': 32.87092971801758...      1067      92037  US   \n",
       "\n",
       "        city state        country  \\\n",
       "0  San Diego    CA  United States   \n",
       "1  San Diego    CA  United States   \n",
       "2   La Jolla    CA  United States   \n",
       "3  San Diego    CA  United States   \n",
       "4   La Jolla    CA  United States   \n",
       "\n",
       "                                    formattedAddress                        id  \n",
       "0  [8785 Villa La Jolla Dr (at Nobel Dr), San Die...  58cdfbba110d037d32772e8c  \n",
       "1  [7748 Regents Rd Ste 303 (at Arriba St), San D...  43f66fd0f964a520b32f1fe3  \n",
       "2          [8110 Camino Del Oro, La Jolla, CA 92037]  4c424971d7fad13ad4f308da  \n",
       "3    [4550 La Jolla Village Dr, San Diego, CA 92122]  4b22b29cf964a520074c24e3  \n",
       "4  [3777 La Jolla Village Dr (btw I-5 and Lebon),...  4c55a45006901b8d5474d44d  "
      ]
     },
     "execution_count": 52,
     "metadata": {},
     "output_type": "execute_result"
    }
   ],
   "source": [
    "df_update.head()"
   ]
  },
  {
   "cell_type": "markdown",
   "metadata": {},
   "source": [
    "Now let's visualize all the restaurants that are nearby"
   ]
  },
  {
   "cell_type": "code",
   "execution_count": 36,
   "metadata": {},
   "outputs": [
    {
     "data": {
      "text/html": [
       "<div style=\"width:100%;\"><div style=\"position:relative;width:100%;height:0;padding-bottom:60%;\"><span style=\"color:#565656\">Make this Notebook Trusted to load map: File -> Trust Notebook</span><iframe src=\"about:blank\" style=\"position:absolute;width:100%;height:100%;left:0;top:0;border:none !important;\" data-html=PCFET0NUWVBFIGh0bWw+CjxoZWFkPiAgICAKICAgIDxtZXRhIGh0dHAtZXF1aXY9ImNvbnRlbnQtdHlwZSIgY29udGVudD0idGV4dC9odG1sOyBjaGFyc2V0PVVURi04IiAvPgogICAgPHNjcmlwdD5MX1BSRUZFUl9DQU5WQVMgPSBmYWxzZTsgTF9OT19UT1VDSCA9IGZhbHNlOyBMX0RJU0FCTEVfM0QgPSBmYWxzZTs8L3NjcmlwdD4KICAgIDxzY3JpcHQgc3JjPSJodHRwczovL2Nkbi5qc2RlbGl2ci5uZXQvbnBtL2xlYWZsZXRAMS4yLjAvZGlzdC9sZWFmbGV0LmpzIj48L3NjcmlwdD4KICAgIDxzY3JpcHQgc3JjPSJodHRwczovL2FqYXguZ29vZ2xlYXBpcy5jb20vYWpheC9saWJzL2pxdWVyeS8xLjExLjEvanF1ZXJ5Lm1pbi5qcyI+PC9zY3JpcHQ+CiAgICA8c2NyaXB0IHNyYz0iaHR0cHM6Ly9tYXhjZG4uYm9vdHN0cmFwY2RuLmNvbS9ib290c3RyYXAvMy4yLjAvanMvYm9vdHN0cmFwLm1pbi5qcyI+PC9zY3JpcHQ+CiAgICA8c2NyaXB0IHNyYz0iaHR0cHM6Ly9jZG5qcy5jbG91ZGZsYXJlLmNvbS9hamF4L2xpYnMvTGVhZmxldC5hd2Vzb21lLW1hcmtlcnMvMi4wLjIvbGVhZmxldC5hd2Vzb21lLW1hcmtlcnMuanMiPjwvc2NyaXB0PgogICAgPGxpbmsgcmVsPSJzdHlsZXNoZWV0IiBocmVmPSJodHRwczovL2Nkbi5qc2RlbGl2ci5uZXQvbnBtL2xlYWZsZXRAMS4yLjAvZGlzdC9sZWFmbGV0LmNzcyIvPgogICAgPGxpbmsgcmVsPSJzdHlsZXNoZWV0IiBocmVmPSJodHRwczovL21heGNkbi5ib290c3RyYXBjZG4uY29tL2Jvb3RzdHJhcC8zLjIuMC9jc3MvYm9vdHN0cmFwLm1pbi5jc3MiLz4KICAgIDxsaW5rIHJlbD0ic3R5bGVzaGVldCIgaHJlZj0iaHR0cHM6Ly9tYXhjZG4uYm9vdHN0cmFwY2RuLmNvbS9ib290c3RyYXAvMy4yLjAvY3NzL2Jvb3RzdHJhcC10aGVtZS5taW4uY3NzIi8+CiAgICA8bGluayByZWw9InN0eWxlc2hlZXQiIGhyZWY9Imh0dHBzOi8vbWF4Y2RuLmJvb3RzdHJhcGNkbi5jb20vZm9udC1hd2Vzb21lLzQuNi4zL2Nzcy9mb250LWF3ZXNvbWUubWluLmNzcyIvPgogICAgPGxpbmsgcmVsPSJzdHlsZXNoZWV0IiBocmVmPSJodHRwczovL2NkbmpzLmNsb3VkZmxhcmUuY29tL2FqYXgvbGlicy9MZWFmbGV0LmF3ZXNvbWUtbWFya2Vycy8yLjAuMi9sZWFmbGV0LmF3ZXNvbWUtbWFya2Vycy5jc3MiLz4KICAgIDxsaW5rIHJlbD0ic3R5bGVzaGVldCIgaHJlZj0iaHR0cHM6Ly9yYXdnaXQuY29tL3B5dGhvbi12aXN1YWxpemF0aW9uL2ZvbGl1bS9tYXN0ZXIvZm9saXVtL3RlbXBsYXRlcy9sZWFmbGV0LmF3ZXNvbWUucm90YXRlLmNzcyIvPgogICAgPHN0eWxlPmh0bWwsIGJvZHkge3dpZHRoOiAxMDAlO2hlaWdodDogMTAwJTttYXJnaW46IDA7cGFkZGluZzogMDt9PC9zdHlsZT4KICAgIDxzdHlsZT4jbWFwIHtwb3NpdGlvbjphYnNvbHV0ZTt0b3A6MDtib3R0b206MDtyaWdodDowO2xlZnQ6MDt9PC9zdHlsZT4KICAgIAogICAgICAgICAgICA8c3R5bGU+ICNtYXBfYTYxNjExNmVlMjdhNDhiZjhmYzc2YWQxYTMzYTM4Y2MgewogICAgICAgICAgICAgICAgcG9zaXRpb24gOiByZWxhdGl2ZTsKICAgICAgICAgICAgICAgIHdpZHRoIDogMTAwLjAlOwogICAgICAgICAgICAgICAgaGVpZ2h0OiAxMDAuMCU7CiAgICAgICAgICAgICAgICBsZWZ0OiAwLjAlOwogICAgICAgICAgICAgICAgdG9wOiAwLjAlOwogICAgICAgICAgICAgICAgfQogICAgICAgICAgICA8L3N0eWxlPgogICAgICAgIAo8L2hlYWQ+Cjxib2R5PiAgICAKICAgIAogICAgICAgICAgICA8ZGl2IGNsYXNzPSJmb2xpdW0tbWFwIiBpZD0ibWFwX2E2MTYxMTZlZTI3YTQ4YmY4ZmM3NmFkMWEzM2EzOGNjIiA+PC9kaXY+CiAgICAgICAgCjwvYm9keT4KPHNjcmlwdD4gICAgCiAgICAKCiAgICAgICAgICAgIAogICAgICAgICAgICAgICAgdmFyIGJvdW5kcyA9IG51bGw7CiAgICAgICAgICAgIAoKICAgICAgICAgICAgdmFyIG1hcF9hNjE2MTE2ZWUyN2E0OGJmOGZjNzZhZDFhMzNhMzhjYyA9IEwubWFwKAogICAgICAgICAgICAgICAgICAgICAgICAgICAgICAgICAgJ21hcF9hNjE2MTE2ZWUyN2E0OGJmOGZjNzZhZDFhMzNhMzhjYycsCiAgICAgICAgICAgICAgICAgICAgICAgICAgICAgICAgICB7Y2VudGVyOiBbMzIuODc5MzUyNTUsLTExNy4yMzExMDA0OTM4NTUzXSwKICAgICAgICAgICAgICAgICAgICAgICAgICAgICAgICAgIHpvb206IDEzLAogICAgICAgICAgICAgICAgICAgICAgICAgICAgICAgICAgbWF4Qm91bmRzOiBib3VuZHMsCiAgICAgICAgICAgICAgICAgICAgICAgICAgICAgICAgICBsYXllcnM6IFtdLAogICAgICAgICAgICAgICAgICAgICAgICAgICAgICAgICAgd29ybGRDb3B5SnVtcDogZmFsc2UsCiAgICAgICAgICAgICAgICAgICAgICAgICAgICAgICAgICBjcnM6IEwuQ1JTLkVQU0czODU3CiAgICAgICAgICAgICAgICAgICAgICAgICAgICAgICAgIH0pOwogICAgICAgICAgICAKICAgICAgICAKICAgIAogICAgICAgICAgICB2YXIgdGlsZV9sYXllcl8xMGE4YTgwOGMyNzM0NGU4OWJkZjRlNWM1MDZiMjY1YyA9IEwudGlsZUxheWVyKAogICAgICAgICAgICAgICAgJ2h0dHBzOi8ve3N9LnRpbGUub3BlbnN0cmVldG1hcC5vcmcve3p9L3t4fS97eX0ucG5nJywKICAgICAgICAgICAgICAgIHsKICAiYXR0cmlidXRpb24iOiBudWxsLAogICJkZXRlY3RSZXRpbmEiOiBmYWxzZSwKICAibWF4Wm9vbSI6IDE4LAogICJtaW5ab29tIjogMSwKICAibm9XcmFwIjogZmFsc2UsCiAgInN1YmRvbWFpbnMiOiAiYWJjIgp9CiAgICAgICAgICAgICAgICApLmFkZFRvKG1hcF9hNjE2MTE2ZWUyN2E0OGJmOGZjNzZhZDFhMzNhMzhjYyk7CiAgICAgICAgCiAgICAKICAgICAgICAgICAgdmFyIGNpcmNsZV9tYXJrZXJfN2ZmYmJkNGRjMGNhNGM5NGIyOGMzMTUwMWM1YjQzNjQgPSBMLmNpcmNsZU1hcmtlcigKICAgICAgICAgICAgICAgIFszMi44NzkzNTI1NSwtMTE3LjIzMTEwMDQ5Mzg1NTNdLAogICAgICAgICAgICAgICAgewogICJidWJibGluZ01vdXNlRXZlbnRzIjogdHJ1ZSwKICAiY29sb3IiOiAicmVkIiwKICAiZGFzaEFycmF5IjogbnVsbCwKICAiZGFzaE9mZnNldCI6IG51bGwsCiAgImZpbGwiOiB0cnVlLAogICJmaWxsQ29sb3IiOiAicmVkIiwKICAiZmlsbE9wYWNpdHkiOiAwLjYsCiAgImZpbGxSdWxlIjogImV2ZW5vZGQiLAogICJsaW5lQ2FwIjogInJvdW5kIiwKICAibGluZUpvaW4iOiAicm91bmQiLAogICJvcGFjaXR5IjogMS4wLAogICJyYWRpdXMiOiAxNSwKICAic3Ryb2tlIjogdHJ1ZSwKICAid2VpZ2h0IjogMwp9CiAgICAgICAgICAgICAgICApLmFkZFRvKG1hcF9hNjE2MTE2ZWUyN2E0OGJmOGZjNzZhZDFhMzNhMzhjYyk7CiAgICAgICAgICAgIAogICAgCiAgICAgICAgICAgIHZhciBwb3B1cF8yNjUyZTkxOTdiOWQ0MDM4YjI1ZWZiOTc5NmExY2ViMyA9IEwucG9wdXAoe21heFdpZHRoOiAnMzAwJ30pOwoKICAgICAgICAgICAgCiAgICAgICAgICAgICAgICB2YXIgaHRtbF8wNzM2ZDQ1N2Q1YTE0MmQ0ODI4OTVkYjNkNzc3ZDZkYyA9ICQoJzxkaXYgaWQ9Imh0bWxfMDczNmQ0NTdkNWExNDJkNDgyODk1ZGIzZDc3N2Q2ZGMiIHN0eWxlPSJ3aWR0aDogMTAwLjAlOyBoZWlnaHQ6IDEwMC4wJTsiPlVDU0Q8L2Rpdj4nKVswXTsKICAgICAgICAgICAgICAgIHBvcHVwXzI2NTJlOTE5N2I5ZDQwMzhiMjVlZmI5Nzk2YTFjZWIzLnNldENvbnRlbnQoaHRtbF8wNzM2ZDQ1N2Q1YTE0MmQ0ODI4OTVkYjNkNzc3ZDZkYyk7CiAgICAgICAgICAgIAoKICAgICAgICAgICAgY2lyY2xlX21hcmtlcl83ZmZiYmQ0ZGMwY2E0Yzk0YjI4YzMxNTAxYzViNDM2NC5iaW5kUG9wdXAocG9wdXBfMjY1MmU5MTk3YjlkNDAzOGIyNWVmYjk3OTZhMWNlYjMpOwoKICAgICAgICAgICAgCiAgICAgICAgCiAgICAKICAgICAgICAgICAgdmFyIGNpcmNsZV9tYXJrZXJfMjI3MzVkMDI5OTgwNDE1ZTlkYjI4OTdmZTE5ZmRiY2MgPSBMLmNpcmNsZU1hcmtlcigKICAgICAgICAgICAgICAgIFszMi44NjgwMDg2NzU2NTAzNSwtMTE3LjIzMzIzMTk5MDI3OTU1XSwKICAgICAgICAgICAgICAgIHsKICAiYnViYmxpbmdNb3VzZUV2ZW50cyI6IHRydWUsCiAgImNvbG9yIjogImJsdWUiLAogICJkYXNoQXJyYXkiOiBudWxsLAogICJkYXNoT2Zmc2V0IjogbnVsbCwKICAiZmlsbCI6IHRydWUsCiAgImZpbGxDb2xvciI6ICJibHVlIiwKICAiZmlsbE9wYWNpdHkiOiAwLjYsCiAgImZpbGxSdWxlIjogImV2ZW5vZGQiLAogICJsaW5lQ2FwIjogInJvdW5kIiwKICAibGluZUpvaW4iOiAicm91bmQiLAogICJvcGFjaXR5IjogMS4wLAogICJyYWRpdXMiOiA1LAogICJzdHJva2UiOiB0cnVlLAogICJ3ZWlnaHQiOiAzCn0KICAgICAgICAgICAgICAgICkuYWRkVG8obWFwX2E2MTYxMTZlZTI3YTQ4YmY4ZmM3NmFkMWEzM2EzOGNjKTsKICAgICAgICAgICAgCiAgICAKICAgICAgICAgICAgdmFyIHBvcHVwX2I0NzViYzllMjg2YzQyODFiZmZlOWFiOTBjYmNmYmVjID0gTC5wb3B1cCh7bWF4V2lkdGg6ICczMDAnfSk7CgogICAgICAgICAgICAKICAgICAgICAgICAgICAgIHZhciBodG1sX2JmNGY4Y2EzODRkZTQ3NGQ4OTNjOGM5YzdiMTY1MjcyID0gJCgnPGRpdiBpZD0iaHRtbF9iZjRmOGNhMzg0ZGU0NzRkODkzYzhjOWM3YjE2NTI3MiIgc3R5bGU9IndpZHRoOiAxMDAuMCU7IGhlaWdodDogMTAwLjAlOyI+QnJld2VyeTwvZGl2PicpWzBdOwogICAgICAgICAgICAgICAgcG9wdXBfYjQ3NWJjOWUyODZjNDI4MWJmZmU5YWI5MGNiY2ZiZWMuc2V0Q29udGVudChodG1sX2JmNGY4Y2EzODRkZTQ3NGQ4OTNjOGM5YzdiMTY1MjcyKTsKICAgICAgICAgICAgCgogICAgICAgICAgICBjaXJjbGVfbWFya2VyXzIyNzM1ZDAyOTk4MDQxNWU5ZGIyODk3ZmUxOWZkYmNjLmJpbmRQb3B1cChwb3B1cF9iNDc1YmM5ZTI4NmM0MjgxYmZmZTlhYjkwY2JjZmJlYyk7CgogICAgICAgICAgICAKICAgICAgICAKICAgIAogICAgICAgICAgICB2YXIgY2lyY2xlX21hcmtlcl9iZDFhOTY0MjQ5MWQ0M2YyYTFjZDRhZjBjOWVmNDcyOCA9IEwuY2lyY2xlTWFya2VyKAogICAgICAgICAgICAgICAgWzMyLjg2MjM2NjgxMzgwNjEzLC0xMTcuMjI0NzQyODk5MjYzMzZdLAogICAgICAgICAgICAgICAgewogICJidWJibGluZ01vdXNlRXZlbnRzIjogdHJ1ZSwKICAiY29sb3IiOiAiYmx1ZSIsCiAgImRhc2hBcnJheSI6IG51bGwsCiAgImRhc2hPZmZzZXQiOiBudWxsLAogICJmaWxsIjogdHJ1ZSwKICAiZmlsbENvbG9yIjogImJsdWUiLAogICJmaWxsT3BhY2l0eSI6IDAuNiwKICAiZmlsbFJ1bGUiOiAiZXZlbm9kZCIsCiAgImxpbmVDYXAiOiAicm91bmQiLAogICJsaW5lSm9pbiI6ICJyb3VuZCIsCiAgIm9wYWNpdHkiOiAxLjAsCiAgInJhZGl1cyI6IDUsCiAgInN0cm9rZSI6IHRydWUsCiAgIndlaWdodCI6IDMKfQogICAgICAgICAgICAgICAgKS5hZGRUbyhtYXBfYTYxNjExNmVlMjdhNDhiZjhmYzc2YWQxYTMzYTM4Y2MpOwogICAgICAgICAgICAKICAgIAogICAgICAgICAgICB2YXIgcG9wdXBfYWIxNmI5ODMzNmNkNGFkYmJkNjZlYjNiYWIwZDk4ZmYgPSBMLnBvcHVwKHttYXhXaWR0aDogJzMwMCd9KTsKCiAgICAgICAgICAgIAogICAgICAgICAgICAgICAgdmFyIGh0bWxfYTkxMmZkZDY3ZjNkNDM0YmFhZWNmMGM2ODU4MDE5Y2MgPSAkKCc8ZGl2IGlkPSJodG1sX2E5MTJmZGQ2N2YzZDQzNGJhYWVjZjBjNjg1ODAxOWNjIiBzdHlsZT0id2lkdGg6IDEwMC4wJTsgaGVpZ2h0OiAxMDAuMCU7Ij5JdGFsaWFuIFJlc3RhdXJhbnQ8L2Rpdj4nKVswXTsKICAgICAgICAgICAgICAgIHBvcHVwX2FiMTZiOTgzMzZjZDRhZGJiZDY2ZWIzYmFiMGQ5OGZmLnNldENvbnRlbnQoaHRtbF9hOTEyZmRkNjdmM2Q0MzRiYWFlY2YwYzY4NTgwMTljYyk7CiAgICAgICAgICAgIAoKICAgICAgICAgICAgY2lyY2xlX21hcmtlcl9iZDFhOTY0MjQ5MWQ0M2YyYTFjZDRhZjBjOWVmNDcyOC5iaW5kUG9wdXAocG9wdXBfYWIxNmI5ODMzNmNkNGFkYmJkNjZlYjNiYWIwZDk4ZmYpOwoKICAgICAgICAgICAgCiAgICAgICAgCiAgICAKICAgICAgICAgICAgdmFyIGNpcmNsZV9tYXJrZXJfYTIyNmQ4ZDVkMmM1NGJmZjllMzRjYTY3YmNhNWM0NDMgPSBMLmNpcmNsZU1hcmtlcigKICAgICAgICAgICAgICAgIFszMi44NTUzMzY0NDA0NjczNCwtMTE3LjI1ODI4OTMwMTYwNDc2XSwKICAgICAgICAgICAgICAgIHsKICAiYnViYmxpbmdNb3VzZUV2ZW50cyI6IHRydWUsCiAgImNvbG9yIjogImJsdWUiLAogICJkYXNoQXJyYXkiOiBudWxsLAogICJkYXNoT2Zmc2V0IjogbnVsbCwKICAiZmlsbCI6IHRydWUsCiAgImZpbGxDb2xvciI6ICJibHVlIiwKICAiZmlsbE9wYWNpdHkiOiAwLjYsCiAgImZpbGxSdWxlIjogImV2ZW5vZGQiLAogICJsaW5lQ2FwIjogInJvdW5kIiwKICAibGluZUpvaW4iOiAicm91bmQiLAogICJvcGFjaXR5IjogMS4wLAogICJyYWRpdXMiOiA1LAogICJzdHJva2UiOiB0cnVlLAogICJ3ZWlnaHQiOiAzCn0KICAgICAgICAgICAgICAgICkuYWRkVG8obWFwX2E2MTYxMTZlZTI3YTQ4YmY4ZmM3NmFkMWEzM2EzOGNjKTsKICAgICAgICAgICAgCiAgICAKICAgICAgICAgICAgdmFyIHBvcHVwXzA4MmEzYTgwZGNlZjQ3ODg5MTcwNzRkODJhZmY3N2JjID0gTC5wb3B1cCh7bWF4V2lkdGg6ICczMDAnfSk7CgogICAgICAgICAgICAKICAgICAgICAgICAgICAgIHZhciBodG1sX2Y2Yjg1MmU5ZTgxNzRiZDJhODcwNWRhYjk2ZWNhZDQ0ID0gJCgnPGRpdiBpZD0iaHRtbF9mNmI4NTJlOWU4MTc0YmQyYTg3MDVkYWI5NmVjYWQ0NCIgc3R5bGU9IndpZHRoOiAxMDAuMCU7IGhlaWdodDogMTAwLjAlOyI+TmV3IEFtZXJpY2FuIFJlc3RhdXJhbnQ8L2Rpdj4nKVswXTsKICAgICAgICAgICAgICAgIHBvcHVwXzA4MmEzYTgwZGNlZjQ3ODg5MTcwNzRkODJhZmY3N2JjLnNldENvbnRlbnQoaHRtbF9mNmI4NTJlOWU4MTc0YmQyYTg3MDVkYWI5NmVjYWQ0NCk7CiAgICAgICAgICAgIAoKICAgICAgICAgICAgY2lyY2xlX21hcmtlcl9hMjI2ZDhkNWQyYzU0YmZmOWUzNGNhNjdiY2E1YzQ0My5iaW5kUG9wdXAocG9wdXBfMDgyYTNhODBkY2VmNDc4ODkxNzA3NGQ4MmFmZjc3YmMpOwoKICAgICAgICAgICAgCiAgICAgICAgCiAgICAKICAgICAgICAgICAgdmFyIGNpcmNsZV9tYXJrZXJfMTViYzA3MDBmNjY5NDFiNTliOWFmYTlmZjg4MzI0MGUgPSBMLmNpcmNsZU1hcmtlcigKICAgICAgICAgICAgICAgIFszMi44NzQ0NjE4ODA4NTkzLC0xMTcuMjA4MzY2MzA5MDIxXSwKICAgICAgICAgICAgICAgIHsKICAiYnViYmxpbmdNb3VzZUV2ZW50cyI6IHRydWUsCiAgImNvbG9yIjogImJsdWUiLAogICJkYXNoQXJyYXkiOiBudWxsLAogICJkYXNoT2Zmc2V0IjogbnVsbCwKICAiZmlsbCI6IHRydWUsCiAgImZpbGxDb2xvciI6ICJibHVlIiwKICAiZmlsbE9wYWNpdHkiOiAwLjYsCiAgImZpbGxSdWxlIjogImV2ZW5vZGQiLAogICJsaW5lQ2FwIjogInJvdW5kIiwKICAibGluZUpvaW4iOiAicm91bmQiLAogICJvcGFjaXR5IjogMS4wLAogICJyYWRpdXMiOiA1LAogICJzdHJva2UiOiB0cnVlLAogICJ3ZWlnaHQiOiAzCn0KICAgICAgICAgICAgICAgICkuYWRkVG8obWFwX2E2MTYxMTZlZTI3YTQ4YmY4ZmM3NmFkMWEzM2EzOGNjKTsKICAgICAgICAgICAgCiAgICAKICAgICAgICAgICAgdmFyIHBvcHVwXzY2MmEzNzU2NmQ1YzQ0ZmI5NWY4MWFjNDE0Y2JhMWM2ID0gTC5wb3B1cCh7bWF4V2lkdGg6ICczMDAnfSk7CgogICAgICAgICAgICAKICAgICAgICAgICAgICAgIHZhciBodG1sX2Q3MjUyOWQzMzI0YTQ2ODhhNzRkMDhiMGU0NTAzNzIxID0gJCgnPGRpdiBpZD0iaHRtbF9kNzI1MjlkMzMyNGE0Njg4YTc0ZDA4YjBlNDUwMzcyMSIgc3R5bGU9IndpZHRoOiAxMDAuMCU7IGhlaWdodDogMTAwLjAlOyI+TmV3IEFtZXJpY2FuIFJlc3RhdXJhbnQ8L2Rpdj4nKVswXTsKICAgICAgICAgICAgICAgIHBvcHVwXzY2MmEzNzU2NmQ1YzQ0ZmI5NWY4MWFjNDE0Y2JhMWM2LnNldENvbnRlbnQoaHRtbF9kNzI1MjlkMzMyNGE0Njg4YTc0ZDA4YjBlNDUwMzcyMSk7CiAgICAgICAgICAgIAoKICAgICAgICAgICAgY2lyY2xlX21hcmtlcl8xNWJjMDcwMGY2Njk0MWI1OWI5YWZhOWZmODgzMjQwZS5iaW5kUG9wdXAocG9wdXBfNjYyYTM3NTY2ZDVjNDRmYjk1ZjgxYWM0MTRjYmExYzYpOwoKICAgICAgICAgICAgCiAgICAgICAgCiAgICAKICAgICAgICAgICAgdmFyIGNpcmNsZV9tYXJrZXJfZmI3OWRmODZiOGM1NDM3NTk3ZTc0MGUzNDFkNjk5NWMgPSBMLmNpcmNsZU1hcmtlcigKICAgICAgICAgICAgICAgIFszMi44NzA5Mjk3MTgwMTc1OCwtMTE3LjIyNTYzOTM0MzI2MTcyXSwKICAgICAgICAgICAgICAgIHsKICAiYnViYmxpbmdNb3VzZUV2ZW50cyI6IHRydWUsCiAgImNvbG9yIjogImJsdWUiLAogICJkYXNoQXJyYXkiOiBudWxsLAogICJkYXNoT2Zmc2V0IjogbnVsbCwKICAiZmlsbCI6IHRydWUsCiAgImZpbGxDb2xvciI6ICJibHVlIiwKICAiZmlsbE9wYWNpdHkiOiAwLjYsCiAgImZpbGxSdWxlIjogImV2ZW5vZGQiLAogICJsaW5lQ2FwIjogInJvdW5kIiwKICAibGluZUpvaW4iOiAicm91bmQiLAogICJvcGFjaXR5IjogMS4wLAogICJyYWRpdXMiOiA1LAogICJzdHJva2UiOiB0cnVlLAogICJ3ZWlnaHQiOiAzCn0KICAgICAgICAgICAgICAgICkuYWRkVG8obWFwX2E2MTYxMTZlZTI3YTQ4YmY4ZmM3NmFkMWEzM2EzOGNjKTsKICAgICAgICAgICAgCiAgICAKICAgICAgICAgICAgdmFyIHBvcHVwXzk0ODVjYzdhNTQ1ODQ3ZmNiM2YwMzliM2FhY2VjYTNjID0gTC5wb3B1cCh7bWF4V2lkdGg6ICczMDAnfSk7CgogICAgICAgICAgICAKICAgICAgICAgICAgICAgIHZhciBodG1sXzU0NTUzNmZkZTNjMjQwM2NiZDAyZDE3NzQzOWNmODQ4ID0gJCgnPGRpdiBpZD0iaHRtbF81NDU1MzZmZGUzYzI0MDNjYmQwMmQxNzc0MzljZjg0OCIgc3R5bGU9IndpZHRoOiAxMDAuMCU7IGhlaWdodDogMTAwLjAlOyI+QW1lcmljYW4gUmVzdGF1cmFudDwvZGl2PicpWzBdOwogICAgICAgICAgICAgICAgcG9wdXBfOTQ4NWNjN2E1NDU4NDdmY2IzZjAzOWIzYWFjZWNhM2Muc2V0Q29udGVudChodG1sXzU0NTUzNmZkZTNjMjQwM2NiZDAyZDE3NzQzOWNmODQ4KTsKICAgICAgICAgICAgCgogICAgICAgICAgICBjaXJjbGVfbWFya2VyX2ZiNzlkZjg2YjhjNTQzNzU5N2U3NDBlMzQxZDY5OTVjLmJpbmRQb3B1cChwb3B1cF85NDg1Y2M3YTU0NTg0N2ZjYjNmMDM5YjNhYWNlY2EzYyk7CgogICAgICAgICAgICAKICAgICAgICAKICAgIAogICAgICAgICAgICB2YXIgY2lyY2xlX21hcmtlcl84NTliM2JjOGJiOTE0Yjk0YWMwNTFkYjY5MTFhMzI4ZCA9IEwuY2lyY2xlTWFya2VyKAogICAgICAgICAgICAgICAgWzMyLjg3MTc1NCwtMTE3LjI0MDcyXSwKICAgICAgICAgICAgICAgIHsKICAiYnViYmxpbmdNb3VzZUV2ZW50cyI6IHRydWUsCiAgImNvbG9yIjogImJsdWUiLAogICJkYXNoQXJyYXkiOiBudWxsLAogICJkYXNoT2Zmc2V0IjogbnVsbCwKICAiZmlsbCI6IHRydWUsCiAgImZpbGxDb2xvciI6ICJibHVlIiwKICAiZmlsbE9wYWNpdHkiOiAwLjYsCiAgImZpbGxSdWxlIjogImV2ZW5vZGQiLAogICJsaW5lQ2FwIjogInJvdW5kIiwKICAibGluZUpvaW4iOiAicm91bmQiLAogICJvcGFjaXR5IjogMS4wLAogICJyYWRpdXMiOiA1LAogICJzdHJva2UiOiB0cnVlLAogICJ3ZWlnaHQiOiAzCn0KICAgICAgICAgICAgICAgICkuYWRkVG8obWFwX2E2MTYxMTZlZTI3YTQ4YmY4ZmM3NmFkMWEzM2EzOGNjKTsKICAgICAgICAgICAgCiAgICAKICAgICAgICAgICAgdmFyIHBvcHVwXzBkMzc0ZGZkOGQyMjQ2NmY5YmJjZDlhZTAwOWVmNDY3ID0gTC5wb3B1cCh7bWF4V2lkdGg6ICczMDAnfSk7CgogICAgICAgICAgICAKICAgICAgICAgICAgICAgIHZhciBodG1sXzYyOGJiN2YwYWY1NTQ0NGQ5N2E0ZWJlMGI0YzhiNTNmID0gJCgnPGRpdiBpZD0iaHRtbF82MjhiYjdmMGFmNTU0NDRkOTdhNGViZTBiNGM4YjUzZiIgc3R5bGU9IndpZHRoOiAxMDAuMCU7IGhlaWdodDogMTAwLjAlOyI+UmVzdGF1cmFudDwvZGl2PicpWzBdOwogICAgICAgICAgICAgICAgcG9wdXBfMGQzNzRkZmQ4ZDIyNDY2ZjliYmNkOWFlMDA5ZWY0Njcuc2V0Q29udGVudChodG1sXzYyOGJiN2YwYWY1NTQ0NGQ5N2E0ZWJlMGI0YzhiNTNmKTsKICAgICAgICAgICAgCgogICAgICAgICAgICBjaXJjbGVfbWFya2VyXzg1OWIzYmM4YmI5MTRiOTRhYzA1MWRiNjkxMWEzMjhkLmJpbmRQb3B1cChwb3B1cF8wZDM3NGRmZDhkMjI0NjZmOWJiY2Q5YWUwMDllZjQ2Nyk7CgogICAgICAgICAgICAKICAgICAgICAKICAgIAogICAgICAgICAgICB2YXIgY2lyY2xlX21hcmtlcl9iOGJiMjk3N2FjOGM0MWFkODg0MmM0ZjNmNjhlODI0NCA9IEwuY2lyY2xlTWFya2VyKAogICAgICAgICAgICAgICAgWzMyLjg4NDY1MTcyMzM3NTk3LC0xMTcuMjQ0OTE2Mjg5MTAwMDJdLAogICAgICAgICAgICAgICAgewogICJidWJibGluZ01vdXNlRXZlbnRzIjogdHJ1ZSwKICAiY29sb3IiOiAiYmx1ZSIsCiAgImRhc2hBcnJheSI6IG51bGwsCiAgImRhc2hPZmZzZXQiOiBudWxsLAogICJmaWxsIjogdHJ1ZSwKICAiZmlsbENvbG9yIjogImJsdWUiLAogICJmaWxsT3BhY2l0eSI6IDAuNiwKICAiZmlsbFJ1bGUiOiAiZXZlbm9kZCIsCiAgImxpbmVDYXAiOiAicm91bmQiLAogICJsaW5lSm9pbiI6ICJyb3VuZCIsCiAgIm9wYWNpdHkiOiAxLjAsCiAgInJhZGl1cyI6IDUsCiAgInN0cm9rZSI6IHRydWUsCiAgIndlaWdodCI6IDMKfQogICAgICAgICAgICAgICAgKS5hZGRUbyhtYXBfYTYxNjExNmVlMjdhNDhiZjhmYzc2YWQxYTMzYTM4Y2MpOwogICAgICAgICAgICAKICAgIAogICAgICAgICAgICB2YXIgcG9wdXBfMjFkMDU5NDdmNDYwNGMzYWEyZWM3MmZhYmRkMGI2MWEgPSBMLnBvcHVwKHttYXhXaWR0aDogJzMwMCd9KTsKCiAgICAgICAgICAgIAogICAgICAgICAgICAgICAgdmFyIGh0bWxfZWI5N2RhNWNmOGI2NDE5OGJiNDliMmFiMzZiYzQ4MmYgPSAkKCc8ZGl2IGlkPSJodG1sX2ViOTdkYTVjZjhiNjQxOThiYjQ5YjJhYjM2YmM0ODJmIiBzdHlsZT0id2lkdGg6IDEwMC4wJTsgaGVpZ2h0OiAxMDAuMCU7Ij5BbWVyaWNhbiBSZXN0YXVyYW50PC9kaXY+JylbMF07CiAgICAgICAgICAgICAgICBwb3B1cF8yMWQwNTk0N2Y0NjA0YzNhYTJlYzcyZmFiZGQwYjYxYS5zZXRDb250ZW50KGh0bWxfZWI5N2RhNWNmOGI2NDE5OGJiNDliMmFiMzZiYzQ4MmYpOwogICAgICAgICAgICAKCiAgICAgICAgICAgIGNpcmNsZV9tYXJrZXJfYjhiYjI5NzdhYzhjNDFhZDg4NDJjNGYzZjY4ZTgyNDQuYmluZFBvcHVwKHBvcHVwXzIxZDA1OTQ3ZjQ2MDRjM2FhMmVjNzJmYWJkZDBiNjFhKTsKCiAgICAgICAgICAgIAogICAgICAgIAogICAgCiAgICAgICAgICAgIHZhciBjaXJjbGVfbWFya2VyXzBkNDk5ZjliMjVhNjRmMTQ5NDUwYzg2MDVmMTExNWEwID0gTC5jaXJjbGVNYXJrZXIoCiAgICAgICAgICAgICAgICBbMzIuODcxMjQyMTMyNTE0NDEsLTExNy4xOTUwMzEzMjA0NzYyNl0sCiAgICAgICAgICAgICAgICB7CiAgImJ1YmJsaW5nTW91c2VFdmVudHMiOiB0cnVlLAogICJjb2xvciI6ICJibHVlIiwKICAiZGFzaEFycmF5IjogbnVsbCwKICAiZGFzaE9mZnNldCI6IG51bGwsCiAgImZpbGwiOiB0cnVlLAogICJmaWxsQ29sb3IiOiAiYmx1ZSIsCiAgImZpbGxPcGFjaXR5IjogMC42LAogICJmaWxsUnVsZSI6ICJldmVub2RkIiwKICAibGluZUNhcCI6ICJyb3VuZCIsCiAgImxpbmVKb2luIjogInJvdW5kIiwKICAib3BhY2l0eSI6IDEuMCwKICAicmFkaXVzIjogNSwKICAic3Ryb2tlIjogdHJ1ZSwKICAid2VpZ2h0IjogMwp9CiAgICAgICAgICAgICAgICApLmFkZFRvKG1hcF9hNjE2MTE2ZWUyN2E0OGJmOGZjNzZhZDFhMzNhMzhjYyk7CiAgICAgICAgICAgIAogICAgCiAgICAgICAgICAgIHZhciBjaXJjbGVfbWFya2VyX2I1MGQyNmFjY2ExZjRlYzFiNGNhYzQ0NzZiYzY0ZmQzID0gTC5jaXJjbGVNYXJrZXIoCiAgICAgICAgICAgICAgICBbMzIuODcyNzk5LC0xMTcuMjE3MDAzXSwKICAgICAgICAgICAgICAgIHsKICAiYnViYmxpbmdNb3VzZUV2ZW50cyI6IHRydWUsCiAgImNvbG9yIjogImJsdWUiLAogICJkYXNoQXJyYXkiOiBudWxsLAogICJkYXNoT2Zmc2V0IjogbnVsbCwKICAiZmlsbCI6IHRydWUsCiAgImZpbGxDb2xvciI6ICJibHVlIiwKICAiZmlsbE9wYWNpdHkiOiAwLjYsCiAgImZpbGxSdWxlIjogImV2ZW5vZGQiLAogICJsaW5lQ2FwIjogInJvdW5kIiwKICAibGluZUpvaW4iOiAicm91bmQiLAogICJvcGFjaXR5IjogMS4wLAogICJyYWRpdXMiOiA1LAogICJzdHJva2UiOiB0cnVlLAogICJ3ZWlnaHQiOiAzCn0KICAgICAgICAgICAgICAgICkuYWRkVG8obWFwX2E2MTYxMTZlZTI3YTQ4YmY4ZmM3NmFkMWEzM2EzOGNjKTsKICAgICAgICAgICAgCiAgICAKICAgICAgICAgICAgdmFyIHBvcHVwXzk1ZTI4ZjBlMzY3YTRjYzBhYzQ1MTE3MDBlNjM1ZTA1ID0gTC5wb3B1cCh7bWF4V2lkdGg6ICczMDAnfSk7CgogICAgICAgICAgICAKICAgICAgICAgICAgICAgIHZhciBodG1sX2ZlOWU4Y2JlNmEwNzRjNWJhZTYzZGFhN2IxMWRhZTMxID0gJCgnPGRpdiBpZD0iaHRtbF9mZTllOGNiZTZhMDc0YzViYWU2M2RhYTdiMTFkYWUzMSIgc3R5bGU9IndpZHRoOiAxMDAuMCU7IGhlaWdodDogMTAwLjAlOyI+Rm9vZDwvZGl2PicpWzBdOwogICAgICAgICAgICAgICAgcG9wdXBfOTVlMjhmMGUzNjdhNGNjMGFjNDUxMTcwMGU2MzVlMDUuc2V0Q29udGVudChodG1sX2ZlOWU4Y2JlNmEwNzRjNWJhZTYzZGFhN2IxMWRhZTMxKTsKICAgICAgICAgICAgCgogICAgICAgICAgICBjaXJjbGVfbWFya2VyX2I1MGQyNmFjY2ExZjRlYzFiNGNhYzQ0NzZiYzY0ZmQzLmJpbmRQb3B1cChwb3B1cF85NWUyOGYwZTM2N2E0Y2MwYWM0NTExNzAwZTYzNWUwNSk7CgogICAgICAgICAgICAKICAgICAgICAKICAgIAogICAgICAgICAgICB2YXIgY2lyY2xlX21hcmtlcl9kZmE0YWVjMmZhZjQ0MjQ5OTdlNzkyYWJjYTdhMzE1MSA9IEwuY2lyY2xlTWFya2VyKAogICAgICAgICAgICAgICAgWzMyLjg3MzQxNDk0MTA2NjUzNSwtMTE3LjIxNTkzNDQ0NzE2ODY4XSwKICAgICAgICAgICAgICAgIHsKICAiYnViYmxpbmdNb3VzZUV2ZW50cyI6IHRydWUsCiAgImNvbG9yIjogImJsdWUiLAogICJkYXNoQXJyYXkiOiBudWxsLAogICJkYXNoT2Zmc2V0IjogbnVsbCwKICAiZmlsbCI6IHRydWUsCiAgImZpbGxDb2xvciI6ICJibHVlIiwKICAiZmlsbE9wYWNpdHkiOiAwLjYsCiAgImZpbGxSdWxlIjogImV2ZW5vZGQiLAogICJsaW5lQ2FwIjogInJvdW5kIiwKICAibGluZUpvaW4iOiAicm91bmQiLAogICJvcGFjaXR5IjogMS4wLAogICJyYWRpdXMiOiA1LAogICJzdHJva2UiOiB0cnVlLAogICJ3ZWlnaHQiOiAzCn0KICAgICAgICAgICAgICAgICkuYWRkVG8obWFwX2E2MTYxMTZlZTI3YTQ4YmY4ZmM3NmFkMWEzM2EzOGNjKTsKICAgICAgICAgICAgCiAgICAKICAgICAgICAgICAgdmFyIHBvcHVwX2VhZDI4OTEzYmE0ZjQzYmE4MDlhNzU5OWM2YmEzNjM5ID0gTC5wb3B1cCh7bWF4V2lkdGg6ICczMDAnfSk7CgogICAgICAgICAgICAKICAgICAgICAgICAgICAgIHZhciBodG1sX2I5MzhhNzljNzhiNDQ2NDA4YTdlMDAzNGY1NWViYzQ1ID0gJCgnPGRpdiBpZD0iaHRtbF9iOTM4YTc5Yzc4YjQ0NjQwOGE3ZTAwMzRmNTVlYmM0NSIgc3R5bGU9IndpZHRoOiAxMDAuMCU7IGhlaWdodDogMTAwLjAlOyI+QW1lcmljYW4gUmVzdGF1cmFudDwvZGl2PicpWzBdOwogICAgICAgICAgICAgICAgcG9wdXBfZWFkMjg5MTNiYTRmNDNiYTgwOWE3NTk5YzZiYTM2Mzkuc2V0Q29udGVudChodG1sX2I5MzhhNzljNzhiNDQ2NDA4YTdlMDAzNGY1NWViYzQ1KTsKICAgICAgICAgICAgCgogICAgICAgICAgICBjaXJjbGVfbWFya2VyX2RmYTRhZWMyZmFmNDQyNDk5N2U3OTJhYmNhN2EzMTUxLmJpbmRQb3B1cChwb3B1cF9lYWQyODkxM2JhNGY0M2JhODA5YTc1OTljNmJhMzYzOSk7CgogICAgICAgICAgICAKICAgICAgICAKICAgIAogICAgICAgICAgICB2YXIgY2lyY2xlX21hcmtlcl8xMmMwMDI1NDc2NDA0MGRmODliMDZiNGExNWJkODIzMyA9IEwuY2lyY2xlTWFya2VyKAogICAgICAgICAgICAgICAgWzMyLjg3MDUwMywtMTE3LjIyNDM2MjAwMDAwMDAxXSwKICAgICAgICAgICAgICAgIHsKICAiYnViYmxpbmdNb3VzZUV2ZW50cyI6IHRydWUsCiAgImNvbG9yIjogImJsdWUiLAogICJkYXNoQXJyYXkiOiBudWxsLAogICJkYXNoT2Zmc2V0IjogbnVsbCwKICAiZmlsbCI6IHRydWUsCiAgImZpbGxDb2xvciI6ICJibHVlIiwKICAiZmlsbE9wYWNpdHkiOiAwLjYsCiAgImZpbGxSdWxlIjogImV2ZW5vZGQiLAogICJsaW5lQ2FwIjogInJvdW5kIiwKICAibGluZUpvaW4iOiAicm91bmQiLAogICJvcGFjaXR5IjogMS4wLAogICJyYWRpdXMiOiA1LAogICJzdHJva2UiOiB0cnVlLAogICJ3ZWlnaHQiOiAzCn0KICAgICAgICAgICAgICAgICkuYWRkVG8obWFwX2E2MTYxMTZlZTI3YTQ4YmY4ZmM3NmFkMWEzM2EzOGNjKTsKICAgICAgICAgICAgCiAgICAKICAgICAgICAgICAgdmFyIHBvcHVwXzU5NGJjYWE2N2E4NjQ2MmViZWJjOWJmMjcxNTJkNGNlID0gTC5wb3B1cCh7bWF4V2lkdGg6ICczMDAnfSk7CgogICAgICAgICAgICAKICAgICAgICAgICAgICAgIHZhciBodG1sXzc0N2UzZDcxMzFmOTQ0OTI5MTkxMWU2MDFjZGU0OTBmID0gJCgnPGRpdiBpZD0iaHRtbF83NDdlM2Q3MTMxZjk0NDkyOTE5MTFlNjAxY2RlNDkwZiIgc3R5bGU9IndpZHRoOiAxMDAuMCU7IGhlaWdodDogMTAwLjAlOyI+Rm9vZDwvZGl2PicpWzBdOwogICAgICAgICAgICAgICAgcG9wdXBfNTk0YmNhYTY3YTg2NDYyZWJlYmM5YmYyNzE1MmQ0Y2Uuc2V0Q29udGVudChodG1sXzc0N2UzZDcxMzFmOTQ0OTI5MTkxMWU2MDFjZGU0OTBmKTsKICAgICAgICAgICAgCgogICAgICAgICAgICBjaXJjbGVfbWFya2VyXzEyYzAwMjU0NzY0MDQwZGY4OWIwNmI0YTE1YmQ4MjMzLmJpbmRQb3B1cChwb3B1cF81OTRiY2FhNjdhODY0NjJlYmViYzliZjI3MTUyZDRjZSk7CgogICAgICAgICAgICAKICAgICAgICAKICAgIAogICAgICAgICAgICB2YXIgY2lyY2xlX21hcmtlcl9jMTU1YWQ0NDAzNjI0OTJmODMyZWEyMjdlZDJjN2M5MiA9IEwuY2lyY2xlTWFya2VyKAogICAgICAgICAgICAgICAgWzMyLjg5NjU5OTk0Njg0MzE0LC0xMTcuMjAxODI5NTEyODM3MjJdLAogICAgICAgICAgICAgICAgewogICJidWJibGluZ01vdXNlRXZlbnRzIjogdHJ1ZSwKICAiY29sb3IiOiAiYmx1ZSIsCiAgImRhc2hBcnJheSI6IG51bGwsCiAgImRhc2hPZmZzZXQiOiBudWxsLAogICJmaWxsIjogdHJ1ZSwKICAiZmlsbENvbG9yIjogImJsdWUiLAogICJmaWxsT3BhY2l0eSI6IDAuNiwKICAiZmlsbFJ1bGUiOiAiZXZlbm9kZCIsCiAgImxpbmVDYXAiOiAicm91bmQiLAogICJsaW5lSm9pbiI6ICJyb3VuZCIsCiAgIm9wYWNpdHkiOiAxLjAsCiAgInJhZGl1cyI6IDUsCiAgInN0cm9rZSI6IHRydWUsCiAgIndlaWdodCI6IDMKfQogICAgICAgICAgICAgICAgKS5hZGRUbyhtYXBfYTYxNjExNmVlMjdhNDhiZjhmYzc2YWQxYTMzYTM4Y2MpOwogICAgICAgICAgICAKICAgIAogICAgICAgICAgICB2YXIgcG9wdXBfMmEwZWI4YWMzY2JhNGQ1ZGFiMzQ5MWZjMGQwZWQyYTQgPSBMLnBvcHVwKHttYXhXaWR0aDogJzMwMCd9KTsKCiAgICAgICAgICAgIAogICAgICAgICAgICAgICAgdmFyIGh0bWxfZDcwNWQyNDdjYzVjNDY1ODgxMzFjZDJhMzNmNjgwZjAgPSAkKCc8ZGl2IGlkPSJodG1sX2Q3MDVkMjQ3Y2M1YzQ2NTg4MTMxY2QyYTMzZjY4MGYwIiBzdHlsZT0id2lkdGg6IDEwMC4wJTsgaGVpZ2h0OiAxMDAuMCU7Ij5CcmV3ZXJ5PC9kaXY+JylbMF07CiAgICAgICAgICAgICAgICBwb3B1cF8yYTBlYjhhYzNjYmE0ZDVkYWIzNDkxZmMwZDBlZDJhNC5zZXRDb250ZW50KGh0bWxfZDcwNWQyNDdjYzVjNDY1ODgxMzFjZDJhMzNmNjgwZjApOwogICAgICAgICAgICAKCiAgICAgICAgICAgIGNpcmNsZV9tYXJrZXJfYzE1NWFkNDQwMzYyNDkyZjgzMmVhMjI3ZWQyYzdjOTIuYmluZFBvcHVwKHBvcHVwXzJhMGViOGFjM2NiYTRkNWRhYjM0OTFmYzBkMGVkMmE0KTsKCiAgICAgICAgICAgIAogICAgICAgIAogICAgCiAgICAgICAgICAgIHZhciBjaXJjbGVfbWFya2VyXzA1YWQyZTI3ZjZjYTRiNWJhNmI0ZWNhMWU1MWU2ZGQwID0gTC5jaXJjbGVNYXJrZXIoCiAgICAgICAgICAgICAgICBbMzIuODc0MDA2LC0xMTcuMjE1MDA3XSwKICAgICAgICAgICAgICAgIHsKICAiYnViYmxpbmdNb3VzZUV2ZW50cyI6IHRydWUsCiAgImNvbG9yIjogImJsdWUiLAogICJkYXNoQXJyYXkiOiBudWxsLAogICJkYXNoT2Zmc2V0IjogbnVsbCwKICAiZmlsbCI6IHRydWUsCiAgImZpbGxDb2xvciI6ICJibHVlIiwKICAiZmlsbE9wYWNpdHkiOiAwLjYsCiAgImZpbGxSdWxlIjogImV2ZW5vZGQiLAogICJsaW5lQ2FwIjogInJvdW5kIiwKICAibGluZUpvaW4iOiAicm91bmQiLAogICJvcGFjaXR5IjogMS4wLAogICJyYWRpdXMiOiA1LAogICJzdHJva2UiOiB0cnVlLAogICJ3ZWlnaHQiOiAzCn0KICAgICAgICAgICAgICAgICkuYWRkVG8obWFwX2E2MTYxMTZlZTI3YTQ4YmY4ZmM3NmFkMWEzM2EzOGNjKTsKICAgICAgICAgICAgCiAgICAKICAgICAgICAgICAgdmFyIHBvcHVwX2NhNmFlZTdjNzZlYjQ4ZGE5NzJiMGNlOWUxMjBjNTZmID0gTC5wb3B1cCh7bWF4V2lkdGg6ICczMDAnfSk7CgogICAgICAgICAgICAKICAgICAgICAgICAgICAgIHZhciBodG1sXzc5ZDMxNzBjNWQ3ODQ3NTVhNjhkY2M5YzcxZGZlNTViID0gJCgnPGRpdiBpZD0iaHRtbF83OWQzMTcwYzVkNzg0NzU1YTY4ZGNjOWM3MWRmZTU1YiIgc3R5bGU9IndpZHRoOiAxMDAuMCU7IGhlaWdodDogMTAwLjAlOyI+UmVzdGF1cmFudDwvZGl2PicpWzBdOwogICAgICAgICAgICAgICAgcG9wdXBfY2E2YWVlN2M3NmViNDhkYTk3MmIwY2U5ZTEyMGM1NmYuc2V0Q29udGVudChodG1sXzc5ZDMxNzBjNWQ3ODQ3NTVhNjhkY2M5YzcxZGZlNTViKTsKICAgICAgICAgICAgCgogICAgICAgICAgICBjaXJjbGVfbWFya2VyXzA1YWQyZTI3ZjZjYTRiNWJhNmI0ZWNhMWU1MWU2ZGQwLmJpbmRQb3B1cChwb3B1cF9jYTZhZWU3Yzc2ZWI0OGRhOTcyYjBjZTllMTIwYzU2Zik7CgogICAgICAgICAgICAKICAgICAgICAKICAgIAogICAgICAgICAgICB2YXIgY2lyY2xlX21hcmtlcl9iYWYwNzVhMmE1Mzc0YjhhOWJjYTI1OWEyOGI2ODQwYSA9IEwuY2lyY2xlTWFya2VyKAogICAgICAgICAgICAgICAgWzMyLjg2MjcyNTc4MjY4NzI0LC0xMTcuMjI0MzU0MjkxNTA3M10sCiAgICAgICAgICAgICAgICB7CiAgImJ1YmJsaW5nTW91c2VFdmVudHMiOiB0cnVlLAogICJjb2xvciI6ICJibHVlIiwKICAiZGFzaEFycmF5IjogbnVsbCwKICAiZGFzaE9mZnNldCI6IG51bGwsCiAgImZpbGwiOiB0cnVlLAogICJmaWxsQ29sb3IiOiAiYmx1ZSIsCiAgImZpbGxPcGFjaXR5IjogMC42LAogICJmaWxsUnVsZSI6ICJldmVub2RkIiwKICAibGluZUNhcCI6ICJyb3VuZCIsCiAgImxpbmVKb2luIjogInJvdW5kIiwKICAib3BhY2l0eSI6IDEuMCwKICAicmFkaXVzIjogNSwKICAic3Ryb2tlIjogdHJ1ZSwKICAid2VpZ2h0IjogMwp9CiAgICAgICAgICAgICAgICApLmFkZFRvKG1hcF9hNjE2MTE2ZWUyN2E0OGJmOGZjNzZhZDFhMzNhMzhjYyk7CiAgICAgICAgICAgIAogICAgCiAgICAgICAgICAgIHZhciBwb3B1cF8wNTc4NzdjMWVlNDk0YTEyYTc1M2NhZDdlNTE4NzQ4MSA9IEwucG9wdXAoe21heFdpZHRoOiAnMzAwJ30pOwoKICAgICAgICAgICAgCiAgICAgICAgICAgICAgICB2YXIgaHRtbF8zZTI2NTBjMDdiMGM0NjRiOTk3Yzc5ODVmMTViN2M1YSA9ICQoJzxkaXYgaWQ9Imh0bWxfM2UyNjUwYzA3YjBjNDY0Yjk5N2M3OTg1ZjE1YjdjNWEiIHN0eWxlPSJ3aWR0aDogMTAwLjAlOyBoZWlnaHQ6IDEwMC4wJTsiPk1leGljYW4gUmVzdGF1cmFudDwvZGl2PicpWzBdOwogICAgICAgICAgICAgICAgcG9wdXBfMDU3ODc3YzFlZTQ5NGExMmE3NTNjYWQ3ZTUxODc0ODEuc2V0Q29udGVudChodG1sXzNlMjY1MGMwN2IwYzQ2NGI5OTdjNzk4NWYxNWI3YzVhKTsKICAgICAgICAgICAgCgogICAgICAgICAgICBjaXJjbGVfbWFya2VyX2JhZjA3NWEyYTUzNzRiOGE5YmNhMjU5YTI4YjY4NDBhLmJpbmRQb3B1cChwb3B1cF8wNTc4NzdjMWVlNDk0YTEyYTc1M2NhZDdlNTE4NzQ4MSk7CgogICAgICAgICAgICAKICAgICAgICAKICAgIAogICAgICAgICAgICB2YXIgY2lyY2xlX21hcmtlcl8xYjNiOWU2MjA2ZDM0OTllOTFjNGZmNmIwMDIzODllNCA9IEwuY2lyY2xlTWFya2VyKAogICAgICAgICAgICAgICAgWzMyLjg3MDgzMzQwNjkzMjYzLC0xMTcuMjI1NDY3ODY0MjYyOTFdLAogICAgICAgICAgICAgICAgewogICJidWJibGluZ01vdXNlRXZlbnRzIjogdHJ1ZSwKICAiY29sb3IiOiAiYmx1ZSIsCiAgImRhc2hBcnJheSI6IG51bGwsCiAgImRhc2hPZmZzZXQiOiBudWxsLAogICJmaWxsIjogdHJ1ZSwKICAiZmlsbENvbG9yIjogImJsdWUiLAogICJmaWxsT3BhY2l0eSI6IDAuNiwKICAiZmlsbFJ1bGUiOiAiZXZlbm9kZCIsCiAgImxpbmVDYXAiOiAicm91bmQiLAogICJsaW5lSm9pbiI6ICJyb3VuZCIsCiAgIm9wYWNpdHkiOiAxLjAsCiAgInJhZGl1cyI6IDUsCiAgInN0cm9rZSI6IHRydWUsCiAgIndlaWdodCI6IDMKfQogICAgICAgICAgICAgICAgKS5hZGRUbyhtYXBfYTYxNjExNmVlMjdhNDhiZjhmYzc2YWQxYTMzYTM4Y2MpOwogICAgICAgICAgICAKICAgIAogICAgICAgICAgICB2YXIgcG9wdXBfYWM3YTFkOTNhMjY1NGNmMTlhMWViNGZlNWQ3Y2JhNDQgPSBMLnBvcHVwKHttYXhXaWR0aDogJzMwMCd9KTsKCiAgICAgICAgICAgIAogICAgICAgICAgICAgICAgdmFyIGh0bWxfOTAwNWViZWMzMjY3NGJkZDhkMDc1MDllMjIzZWRmMTEgPSAkKCc8ZGl2IGlkPSJodG1sXzkwMDVlYmVjMzI2NzRiZGQ4ZDA3NTA5ZTIyM2VkZjExIiBzdHlsZT0id2lkdGg6IDEwMC4wJTsgaGVpZ2h0OiAxMDAuMCU7Ij5Ib3RlbDwvZGl2PicpWzBdOwogICAgICAgICAgICAgICAgcG9wdXBfYWM3YTFkOTNhMjY1NGNmMTlhMWViNGZlNWQ3Y2JhNDQuc2V0Q29udGVudChodG1sXzkwMDVlYmVjMzI2NzRiZGQ4ZDA3NTA5ZTIyM2VkZjExKTsKICAgICAgICAgICAgCgogICAgICAgICAgICBjaXJjbGVfbWFya2VyXzFiM2I5ZTYyMDZkMzQ5OWU5MWM0ZmY2YjAwMjM4OWU0LmJpbmRQb3B1cChwb3B1cF9hYzdhMWQ5M2EyNjU0Y2YxOWExZWI0ZmU1ZDdjYmE0NCk7CgogICAgICAgICAgICAKICAgICAgICAKICAgIAogICAgICAgICAgICB2YXIgY2lyY2xlX21hcmtlcl85NGM0N2JjZjdhNzg0ZmZjYWYxY2U5OTNjODZmNDllMyA9IEwuY2lyY2xlTWFya2VyKAogICAgICAgICAgICAgICAgWzMyLjg1MzgwOTA4NDkwMzk2NSwtMTE3LjI1NjEyMDQ3MDA0NzU2XSwKICAgICAgICAgICAgICAgIHsKICAiYnViYmxpbmdNb3VzZUV2ZW50cyI6IHRydWUsCiAgImNvbG9yIjogImJsdWUiLAogICJkYXNoQXJyYXkiOiBudWxsLAogICJkYXNoT2Zmc2V0IjogbnVsbCwKICAiZmlsbCI6IHRydWUsCiAgImZpbGxDb2xvciI6ICJibHVlIiwKICAiZmlsbE9wYWNpdHkiOiAwLjYsCiAgImZpbGxSdWxlIjogImV2ZW5vZGQiLAogICJsaW5lQ2FwIjogInJvdW5kIiwKICAibGluZUpvaW4iOiAicm91bmQiLAogICJvcGFjaXR5IjogMS4wLAogICJyYWRpdXMiOiA1LAogICJzdHJva2UiOiB0cnVlLAogICJ3ZWlnaHQiOiAzCn0KICAgICAgICAgICAgICAgICkuYWRkVG8obWFwX2E2MTYxMTZlZTI3YTQ4YmY4ZmM3NmFkMWEzM2EzOGNjKTsKICAgICAgICAgICAgCiAgICAKICAgICAgICAgICAgdmFyIHBvcHVwX2U5YTM4N2IyOWYzZDRlNTE4Mzg3MzRlMTZhYTg2NjcyID0gTC5wb3B1cCh7bWF4V2lkdGg6ICczMDAnfSk7CgogICAgICAgICAgICAKICAgICAgICAgICAgICAgIHZhciBodG1sX2YzNjU1OWYzYjlhNjQ0MzVhZmMwYjViNDkxMWFjNWFmID0gJCgnPGRpdiBpZD0iaHRtbF9mMzY1NTlmM2I5YTY0NDM1YWZjMGI1YjQ5MTFhYzVhZiIgc3R5bGU9IndpZHRoOiAxMDAuMCU7IGhlaWdodDogMTAwLjAlOyI+SXRhbGlhbiBSZXN0YXVyYW50PC9kaXY+JylbMF07CiAgICAgICAgICAgICAgICBwb3B1cF9lOWEzODdiMjlmM2Q0ZTUxODM4NzM0ZTE2YWE4NjY3Mi5zZXRDb250ZW50KGh0bWxfZjM2NTU5ZjNiOWE2NDQzNWFmYzBiNWI0OTExYWM1YWYpOwogICAgICAgICAgICAKCiAgICAgICAgICAgIGNpcmNsZV9tYXJrZXJfOTRjNDdiY2Y3YTc4NGZmY2FmMWNlOTkzYzg2ZjQ5ZTMuYmluZFBvcHVwKHBvcHVwX2U5YTM4N2IyOWYzZDRlNTE4Mzg3MzRlMTZhYTg2NjcyKTsKCiAgICAgICAgICAgIAogICAgICAgIAogICAgCiAgICAgICAgICAgIHZhciBjaXJjbGVfbWFya2VyXzc2ZWMyOGE5MzZlMzRhYTRhNzk4NTQ2NTNjNDJkOGEzID0gTC5jaXJjbGVNYXJrZXIoCiAgICAgICAgICAgICAgICBbMzIuODk1NzMwMTc4MzEzMzgsLTExNy4yMTU0MTc2Mzc1NzQyXSwKICAgICAgICAgICAgICAgIHsKICAiYnViYmxpbmdNb3VzZUV2ZW50cyI6IHRydWUsCiAgImNvbG9yIjogImJsdWUiLAogICJkYXNoQXJyYXkiOiBudWxsLAogICJkYXNoT2Zmc2V0IjogbnVsbCwKICAiZmlsbCI6IHRydWUsCiAgImZpbGxDb2xvciI6ICJibHVlIiwKICAiZmlsbE9wYWNpdHkiOiAwLjYsCiAgImZpbGxSdWxlIjogImV2ZW5vZGQiLAogICJsaW5lQ2FwIjogInJvdW5kIiwKICAibGluZUpvaW4iOiAicm91bmQiLAogICJvcGFjaXR5IjogMS4wLAogICJyYWRpdXMiOiA1LAogICJzdHJva2UiOiB0cnVlLAogICJ3ZWlnaHQiOiAzCn0KICAgICAgICAgICAgICAgICkuYWRkVG8obWFwX2E2MTYxMTZlZTI3YTQ4YmY4ZmM3NmFkMWEzM2EzOGNjKTsKICAgICAgICAgICAgCiAgICAKICAgICAgICAgICAgdmFyIHBvcHVwXzcyOGFiYmNlZThiMTRmY2I4ZTg1MjQ0NmE3NGEzYzdlID0gTC5wb3B1cCh7bWF4V2lkdGg6ICczMDAnfSk7CgogICAgICAgICAgICAKICAgICAgICAgICAgICAgIHZhciBodG1sXzcxZjU5MTA5YWMxZTQzODg5ZjQ0MzUxZGE1ZjYxMzE0ID0gJCgnPGRpdiBpZD0iaHRtbF83MWY1OTEwOWFjMWU0Mzg4OWY0NDM1MWRhNWY2MTMxNCIgc3R5bGU9IndpZHRoOiAxMDAuMCU7IGhlaWdodDogMTAwLjAlOyI+Q2hpbmVzZSBSZXN0YXVyYW50PC9kaXY+JylbMF07CiAgICAgICAgICAgICAgICBwb3B1cF83MjhhYmJjZWU4YjE0ZmNiOGU4NTI0NDZhNzRhM2M3ZS5zZXRDb250ZW50KGh0bWxfNzFmNTkxMDlhYzFlNDM4ODlmNDQzNTFkYTVmNjEzMTQpOwogICAgICAgICAgICAKCiAgICAgICAgICAgIGNpcmNsZV9tYXJrZXJfNzZlYzI4YTkzNmUzNGFhNGE3OTg1NDY1M2M0MmQ4YTMuYmluZFBvcHVwKHBvcHVwXzcyOGFiYmNlZThiMTRmY2I4ZTg1MjQ0NmE3NGEzYzdlKTsKCiAgICAgICAgICAgIAogICAgICAgIAogICAgCiAgICAgICAgICAgIHZhciBjaXJjbGVfbWFya2VyX2ZmOTczYTg2MDU1MTQ5NDE5MjNjNzNhZmM0MzNhMzQ4ID0gTC5jaXJjbGVNYXJrZXIoCiAgICAgICAgICAgICAgICBbMzIuODY4MzAxLC0xMTcuMjA3MDAxXSwKICAgICAgICAgICAgICAgIHsKICAiYnViYmxpbmdNb3VzZUV2ZW50cyI6IHRydWUsCiAgImNvbG9yIjogImJsdWUiLAogICJkYXNoQXJyYXkiOiBudWxsLAogICJkYXNoT2Zmc2V0IjogbnVsbCwKICAiZmlsbCI6IHRydWUsCiAgImZpbGxDb2xvciI6ICJibHVlIiwKICAiZmlsbE9wYWNpdHkiOiAwLjYsCiAgImZpbGxSdWxlIjogImV2ZW5vZGQiLAogICJsaW5lQ2FwIjogInJvdW5kIiwKICAibGluZUpvaW4iOiAicm91bmQiLAogICJvcGFjaXR5IjogMS4wLAogICJyYWRpdXMiOiA1LAogICJzdHJva2UiOiB0cnVlLAogICJ3ZWlnaHQiOiAzCn0KICAgICAgICAgICAgICAgICkuYWRkVG8obWFwX2E2MTYxMTZlZTI3YTQ4YmY4ZmM3NmFkMWEzM2EzOGNjKTsKICAgICAgICAgICAgCiAgICAKICAgICAgICAgICAgdmFyIHBvcHVwXzYxNDcyMDczYTdkNjRjNWZhMjZiYmJlYjFlNjdmMTc1ID0gTC5wb3B1cCh7bWF4V2lkdGg6ICczMDAnfSk7CgogICAgICAgICAgICAKICAgICAgICAgICAgICAgIHZhciBodG1sX2EwZmRkM2U5YTJmNzRjOWQ4ODM4NGY2MDljZDVjYzA4ID0gJCgnPGRpdiBpZD0iaHRtbF9hMGZkZDNlOWEyZjc0YzlkODgzODRmNjA5Y2Q1Y2MwOCIgc3R5bGU9IndpZHRoOiAxMDAuMCU7IGhlaWdodDogMTAwLjAlOyI+VGhhaSBSZXN0YXVyYW50PC9kaXY+JylbMF07CiAgICAgICAgICAgICAgICBwb3B1cF82MTQ3MjA3M2E3ZDY0YzVmYTI2YmJiZWIxZTY3ZjE3NS5zZXRDb250ZW50KGh0bWxfYTBmZGQzZTlhMmY3NGM5ZDg4Mzg0ZjYwOWNkNWNjMDgpOwogICAgICAgICAgICAKCiAgICAgICAgICAgIGNpcmNsZV9tYXJrZXJfZmY5NzNhODYwNTUxNDk0MTkyM2M3M2FmYzQzM2EzNDguYmluZFBvcHVwKHBvcHVwXzYxNDcyMDczYTdkNjRjNWZhMjZiYmJlYjFlNjdmMTc1KTsKCiAgICAgICAgICAgIAogICAgICAgIAogICAgCiAgICAgICAgICAgIHZhciBjaXJjbGVfbWFya2VyXzA0NmE3MTQxOTg4ZTQ1MDNiNWQ1NjMyMzNmYjAxYzkyID0gTC5jaXJjbGVNYXJrZXIoCiAgICAgICAgICAgICAgICBbMzIuODY3Nzc2LC0xMTcuMjA3MTczXSwKICAgICAgICAgICAgICAgIHsKICAiYnViYmxpbmdNb3VzZUV2ZW50cyI6IHRydWUsCiAgImNvbG9yIjogImJsdWUiLAogICJkYXNoQXJyYXkiOiBudWxsLAogICJkYXNoT2Zmc2V0IjogbnVsbCwKICAiZmlsbCI6IHRydWUsCiAgImZpbGxDb2xvciI6ICJibHVlIiwKICAiZmlsbE9wYWNpdHkiOiAwLjYsCiAgImZpbGxSdWxlIjogImV2ZW5vZGQiLAogICJsaW5lQ2FwIjogInJvdW5kIiwKICAibGluZUpvaW4iOiAicm91bmQiLAogICJvcGFjaXR5IjogMS4wLAogICJyYWRpdXMiOiA1LAogICJzdHJva2UiOiB0cnVlLAogICJ3ZWlnaHQiOiAzCn0KICAgICAgICAgICAgICAgICkuYWRkVG8obWFwX2E2MTYxMTZlZTI3YTQ4YmY4ZmM3NmFkMWEzM2EzOGNjKTsKICAgICAgICAgICAgCiAgICAKICAgICAgICAgICAgdmFyIHBvcHVwXzlhNjM5M2E1OGQwMDQ4Yzc5NDUwZjVmNjg3ZTVhMzI2ID0gTC5wb3B1cCh7bWF4V2lkdGg6ICczMDAnfSk7CgogICAgICAgICAgICAKICAgICAgICAgICAgICAgIHZhciBodG1sXzA4YjIxZjhmMjdlMTRhMGI5NDQyZGU1YzlkMjA5MGM4ID0gJCgnPGRpdiBpZD0iaHRtbF8wOGIyMWY4ZjI3ZTE0YTBiOTQ0MmRlNWM5ZDIwOTBjOCIgc3R5bGU9IndpZHRoOiAxMDAuMCU7IGhlaWdodDogMTAwLjAlOyI+Rm9vZDwvZGl2PicpWzBdOwogICAgICAgICAgICAgICAgcG9wdXBfOWE2MzkzYTU4ZDAwNDhjNzk0NTBmNWY2ODdlNWEzMjYuc2V0Q29udGVudChodG1sXzA4YjIxZjhmMjdlMTRhMGI5NDQyZGU1YzlkMjA5MGM4KTsKICAgICAgICAgICAgCgogICAgICAgICAgICBjaXJjbGVfbWFya2VyXzA0NmE3MTQxOTg4ZTQ1MDNiNWQ1NjMyMzNmYjAxYzkyLmJpbmRQb3B1cChwb3B1cF85YTYzOTNhNThkMDA0OGM3OTQ1MGY1ZjY4N2U1YTMyNik7CgogICAgICAgICAgICAKICAgICAgICAKICAgIAogICAgICAgICAgICB2YXIgY2lyY2xlX21hcmtlcl84NDA2NGRjNTFhNTQ0YjFjYTBmMmE0MThjZDhjMWIzZiA9IEwuY2lyY2xlTWFya2VyKAogICAgICAgICAgICAgICAgWzMyLjg4MzEzMDgwOTczNTg2LC0xMTcuMjQyNzkwMDgyOTE3MV0sCiAgICAgICAgICAgICAgICB7CiAgImJ1YmJsaW5nTW91c2VFdmVudHMiOiB0cnVlLAogICJjb2xvciI6ICJibHVlIiwKICAiZGFzaEFycmF5IjogbnVsbCwKICAiZGFzaE9mZnNldCI6IG51bGwsCiAgImZpbGwiOiB0cnVlLAogICJmaWxsQ29sb3IiOiAiYmx1ZSIsCiAgImZpbGxPcGFjaXR5IjogMC42LAogICJmaWxsUnVsZSI6ICJldmVub2RkIiwKICAibGluZUNhcCI6ICJyb3VuZCIsCiAgImxpbmVKb2luIjogInJvdW5kIiwKICAib3BhY2l0eSI6IDEuMCwKICAicmFkaXVzIjogNSwKICAic3Ryb2tlIjogdHJ1ZSwKICAid2VpZ2h0IjogMwp9CiAgICAgICAgICAgICAgICApLmFkZFRvKG1hcF9hNjE2MTE2ZWUyN2E0OGJmOGZjNzZhZDFhMzNhMzhjYyk7CiAgICAgICAgICAgIAogICAgCiAgICAgICAgICAgIHZhciBwb3B1cF9lMjMwMjc4YTQzZWU0Mzk3ODg3YmZlMTQyMTM0MWMyZiA9IEwucG9wdXAoe21heFdpZHRoOiAnMzAwJ30pOwoKICAgICAgICAgICAgCiAgICAgICAgICAgICAgICB2YXIgaHRtbF80MzQ3NDNiNGIzNzA0Y2NiYmI3MzU1OGQ3MDliYWEwNSA9ICQoJzxkaXYgaWQ9Imh0bWxfNDM0NzQzYjRiMzcwNGNjYmJiNzM1NThkNzA5YmFhMDUiIHN0eWxlPSJ3aWR0aDogMTAwLjAlOyBoZWlnaHQ6IDEwMC4wJTsiPkNvbGxlZ2UgQ2FmZXRlcmlhPC9kaXY+JylbMF07CiAgICAgICAgICAgICAgICBwb3B1cF9lMjMwMjc4YTQzZWU0Mzk3ODg3YmZlMTQyMTM0MWMyZi5zZXRDb250ZW50KGh0bWxfNDM0NzQzYjRiMzcwNGNjYmJiNzM1NThkNzA5YmFhMDUpOwogICAgICAgICAgICAKCiAgICAgICAgICAgIGNpcmNsZV9tYXJrZXJfODQwNjRkYzUxYTU0NGIxY2EwZjJhNDE4Y2Q4YzFiM2YuYmluZFBvcHVwKHBvcHVwX2UyMzAyNzhhNDNlZTQzOTc4ODdiZmUxNDIxMzQxYzJmKTsKCiAgICAgICAgICAgIAogICAgICAgIAogICAgCiAgICAgICAgICAgIHZhciBjaXJjbGVfbWFya2VyX2VjYmI3ZjI5NTk1MjQwMjk5MTdlOGM3ZmQ1ZmE4MjYzID0gTC5jaXJjbGVNYXJrZXIoCiAgICAgICAgICAgICAgICBbMzIuODk5NjQ2NzU5MDMzMiwtMTE3LjIwNTYzNTA3MDgwMDc4XSwKICAgICAgICAgICAgICAgIHsKICAiYnViYmxpbmdNb3VzZUV2ZW50cyI6IHRydWUsCiAgImNvbG9yIjogImJsdWUiLAogICJkYXNoQXJyYXkiOiBudWxsLAogICJkYXNoT2Zmc2V0IjogbnVsbCwKICAiZmlsbCI6IHRydWUsCiAgImZpbGxDb2xvciI6ICJibHVlIiwKICAiZmlsbE9wYWNpdHkiOiAwLjYsCiAgImZpbGxSdWxlIjogImV2ZW5vZGQiLAogICJsaW5lQ2FwIjogInJvdW5kIiwKICAibGluZUpvaW4iOiAicm91bmQiLAogICJvcGFjaXR5IjogMS4wLAogICJyYWRpdXMiOiA1LAogICJzdHJva2UiOiB0cnVlLAogICJ3ZWlnaHQiOiAzCn0KICAgICAgICAgICAgICAgICkuYWRkVG8obWFwX2E2MTYxMTZlZTI3YTQ4YmY4ZmM3NmFkMWEzM2EzOGNjKTsKICAgICAgICAgICAgCiAgICAKICAgICAgICAgICAgdmFyIHBvcHVwX2QzN2VkOTc1MTFjMDRkNjhhYzBmOTMyNzk5Y2FhY2EwID0gTC5wb3B1cCh7bWF4V2lkdGg6ICczMDAnfSk7CgogICAgICAgICAgICAKICAgICAgICAgICAgICAgIHZhciBodG1sXzIzMmI4YjcwMDJhMzQwZWI4OGU1ZTBhNDRjNDk5OGE0ID0gJCgnPGRpdiBpZD0iaHRtbF8yMzJiOGI3MDAyYTM0MGViODhlNWUwYTQ0YzQ5OThhNCIgc3R5bGU9IndpZHRoOiAxMDAuMCU7IGhlaWdodDogMTAwLjAlOyI+UmVzdGF1cmFudDwvZGl2PicpWzBdOwogICAgICAgICAgICAgICAgcG9wdXBfZDM3ZWQ5NzUxMWMwNGQ2OGFjMGY5MzI3OTljYWFjYTAuc2V0Q29udGVudChodG1sXzIzMmI4YjcwMDJhMzQwZWI4OGU1ZTBhNDRjNDk5OGE0KTsKICAgICAgICAgICAgCgogICAgICAgICAgICBjaXJjbGVfbWFya2VyX2VjYmI3ZjI5NTk1MjQwMjk5MTdlOGM3ZmQ1ZmE4MjYzLmJpbmRQb3B1cChwb3B1cF9kMzdlZDk3NTExYzA0ZDY4YWMwZjkzMjc5OWNhYWNhMCk7CgogICAgICAgICAgICAKICAgICAgICAKICAgIAogICAgICAgICAgICB2YXIgY2lyY2xlX21hcmtlcl83YjE0ZTNiOTk5NWU0MzAwODc0YTY3N2FiMjk4MTY5ZCA9IEwuY2lyY2xlTWFya2VyKAogICAgICAgICAgICAgICAgWzMyLjg5Njc5NjA4MzMzMzMzNSwtMTE3LjE5OTI5MTE4MzMzMzMzXSwKICAgICAgICAgICAgICAgIHsKICAiYnViYmxpbmdNb3VzZUV2ZW50cyI6IHRydWUsCiAgImNvbG9yIjogImJsdWUiLAogICJkYXNoQXJyYXkiOiBudWxsLAogICJkYXNoT2Zmc2V0IjogbnVsbCwKICAiZmlsbCI6IHRydWUsCiAgImZpbGxDb2xvciI6ICJibHVlIiwKICAiZmlsbE9wYWNpdHkiOiAwLjYsCiAgImZpbGxSdWxlIjogImV2ZW5vZGQiLAogICJsaW5lQ2FwIjogInJvdW5kIiwKICAibGluZUpvaW4iOiAicm91bmQiLAogICJvcGFjaXR5IjogMS4wLAogICJyYWRpdXMiOiA1LAogICJzdHJva2UiOiB0cnVlLAogICJ3ZWlnaHQiOiAzCn0KICAgICAgICAgICAgICAgICkuYWRkVG8obWFwX2E2MTYxMTZlZTI3YTQ4YmY4ZmM3NmFkMWEzM2EzOGNjKTsKICAgICAgICAgICAgCiAgICAKICAgICAgICAgICAgdmFyIGNpcmNsZV9tYXJrZXJfNWVkNDM5NWNkMmM2NDY2ODkyZWM5N2FmYzM3MGE3NWUgPSBMLmNpcmNsZU1hcmtlcigKICAgICAgICAgICAgICAgIFszMi44ODI4NjAzNTU5Mzk0NCwtMTE3LjI0MDQ0NTM0MTYxNDM5XSwKICAgICAgICAgICAgICAgIHsKICAiYnViYmxpbmdNb3VzZUV2ZW50cyI6IHRydWUsCiAgImNvbG9yIjogImJsdWUiLAogICJkYXNoQXJyYXkiOiBudWxsLAogICJkYXNoT2Zmc2V0IjogbnVsbCwKICAiZmlsbCI6IHRydWUsCiAgImZpbGxDb2xvciI6ICJibHVlIiwKICAiZmlsbE9wYWNpdHkiOiAwLjYsCiAgImZpbGxSdWxlIjogImV2ZW5vZGQiLAogICJsaW5lQ2FwIjogInJvdW5kIiwKICAibGluZUpvaW4iOiAicm91bmQiLAogICJvcGFjaXR5IjogMS4wLAogICJyYWRpdXMiOiA1LAogICJzdHJva2UiOiB0cnVlLAogICJ3ZWlnaHQiOiAzCn0KICAgICAgICAgICAgICAgICkuYWRkVG8obWFwX2E2MTYxMTZlZTI3YTQ4YmY4ZmM3NmFkMWEzM2EzOGNjKTsKICAgICAgICAgICAgCiAgICAKICAgICAgICAgICAgdmFyIHBvcHVwXzk3NDViZDZlMzk0MTRmY2E5NTc0OTFiOTc4MGFhYjZmID0gTC5wb3B1cCh7bWF4V2lkdGg6ICczMDAnfSk7CgogICAgICAgICAgICAKICAgICAgICAgICAgICAgIHZhciBodG1sX2JhYWQ1MTc1YmI5OTQ5NDRiM2IzNDcyZDcyODRjOWM3ID0gJCgnPGRpdiBpZD0iaHRtbF9iYWFkNTE3NWJiOTk0OTQ0YjNiMzQ3MmQ3Mjg0YzljNyIgc3R5bGU9IndpZHRoOiAxMDAuMCU7IGhlaWdodDogMTAwLjAlOyI+QnVycml0byBQbGFjZTwvZGl2PicpWzBdOwogICAgICAgICAgICAgICAgcG9wdXBfOTc0NWJkNmUzOTQxNGZjYTk1NzQ5MWI5NzgwYWFiNmYuc2V0Q29udGVudChodG1sX2JhYWQ1MTc1YmI5OTQ5NDRiM2IzNDcyZDcyODRjOWM3KTsKICAgICAgICAgICAgCgogICAgICAgICAgICBjaXJjbGVfbWFya2VyXzVlZDQzOTVjZDJjNjQ2Njg5MmVjOTdhZmMzNzBhNzVlLmJpbmRQb3B1cChwb3B1cF85NzQ1YmQ2ZTM5NDE0ZmNhOTU3NDkxYjk3ODBhYWI2Zik7CgogICAgICAgICAgICAKICAgICAgICAKICAgIAogICAgICAgICAgICB2YXIgY2lyY2xlX21hcmtlcl9jMmU0ZGRjNzU4MTQ0YzkyYjNjYzk2ZWI1N2M3NmJjZCA9IEwuY2lyY2xlTWFya2VyKAogICAgICAgICAgICAgICAgWzMyLjg2OTcyMjA5MzM3MTE0LC0xMTcuMjE0MzIzMDY3ODI3MjJdLAogICAgICAgICAgICAgICAgewogICJidWJibGluZ01vdXNlRXZlbnRzIjogdHJ1ZSwKICAiY29sb3IiOiAiYmx1ZSIsCiAgImRhc2hBcnJheSI6IG51bGwsCiAgImRhc2hPZmZzZXQiOiBudWxsLAogICJmaWxsIjogdHJ1ZSwKICAiZmlsbENvbG9yIjogImJsdWUiLAogICJmaWxsT3BhY2l0eSI6IDAuNiwKICAiZmlsbFJ1bGUiOiAiZXZlbm9kZCIsCiAgImxpbmVDYXAiOiAicm91bmQiLAogICJsaW5lSm9pbiI6ICJyb3VuZCIsCiAgIm9wYWNpdHkiOiAxLjAsCiAgInJhZGl1cyI6IDUsCiAgInN0cm9rZSI6IHRydWUsCiAgIndlaWdodCI6IDMKfQogICAgICAgICAgICAgICAgKS5hZGRUbyhtYXBfYTYxNjExNmVlMjdhNDhiZjhmYzc2YWQxYTMzYTM4Y2MpOwogICAgICAgICAgICAKICAgIAogICAgICAgICAgICB2YXIgcG9wdXBfZGI4ZTk1YTM5OTUyNDMwMGI5NTFkMjk0ZDFkMjFhMTMgPSBMLnBvcHVwKHttYXhXaWR0aDogJzMwMCd9KTsKCiAgICAgICAgICAgIAogICAgICAgICAgICAgICAgdmFyIGh0bWxfYTY5YTZmODUzNTVhNDZhOGI3NTNmMDc5MTRjMjVhMWMgPSAkKCc8ZGl2IGlkPSJodG1sX2E2OWE2Zjg1MzU1YTQ2YThiNzUzZjA3OTE0YzI1YTFjIiBzdHlsZT0id2lkdGg6IDEwMC4wJTsgaGVpZ2h0OiAxMDAuMCU7Ij5TdXNoaSBSZXN0YXVyYW50PC9kaXY+JylbMF07CiAgICAgICAgICAgICAgICBwb3B1cF9kYjhlOTVhMzk5NTI0MzAwYjk1MWQyOTRkMWQyMWExMy5zZXRDb250ZW50KGh0bWxfYTY5YTZmODUzNTVhNDZhOGI3NTNmMDc5MTRjMjVhMWMpOwogICAgICAgICAgICAKCiAgICAgICAgICAgIGNpcmNsZV9tYXJrZXJfYzJlNGRkYzc1ODE0NGM5MmIzY2M5NmViNTdjNzZiY2QuYmluZFBvcHVwKHBvcHVwX2RiOGU5NWEzOTk1MjQzMDBiOTUxZDI5NGQxZDIxYTEzKTsKCiAgICAgICAgICAgIAogICAgICAgIAogICAgCiAgICAgICAgICAgIHZhciBjaXJjbGVfbWFya2VyXzkwYTNhMmIwNzRlNTQ0Yjg4OTlhZjRjNjM0NjAxNTY2ID0gTC5jaXJjbGVNYXJrZXIoCiAgICAgICAgICAgICAgICBbMzIuODQ5NDYsLTExNy4yNTIyMTEwMDAwMDAwMl0sCiAgICAgICAgICAgICAgICB7CiAgImJ1YmJsaW5nTW91c2VFdmVudHMiOiB0cnVlLAogICJjb2xvciI6ICJibHVlIiwKICAiZGFzaEFycmF5IjogbnVsbCwKICAiZGFzaE9mZnNldCI6IG51bGwsCiAgImZpbGwiOiB0cnVlLAogICJmaWxsQ29sb3IiOiAiYmx1ZSIsCiAgImZpbGxPcGFjaXR5IjogMC42LAogICJmaWxsUnVsZSI6ICJldmVub2RkIiwKICAibGluZUNhcCI6ICJyb3VuZCIsCiAgImxpbmVKb2luIjogInJvdW5kIiwKICAib3BhY2l0eSI6IDEuMCwKICAicmFkaXVzIjogNSwKICAic3Ryb2tlIjogdHJ1ZSwKICAid2VpZ2h0IjogMwp9CiAgICAgICAgICAgICAgICApLmFkZFRvKG1hcF9hNjE2MTE2ZWUyN2E0OGJmOGZjNzZhZDFhMzNhMzhjYyk7CiAgICAgICAgICAgIAogICAgCiAgICAgICAgICAgIHZhciBwb3B1cF81MzFmMzcxMDExODI0YWZhYjMwYWE0YTMxMzAzZTk0MSA9IEwucG9wdXAoe21heFdpZHRoOiAnMzAwJ30pOwoKICAgICAgICAgICAgCiAgICAgICAgICAgICAgICB2YXIgaHRtbF9hMDM5NzJlMTI4YTQ0NGVlOWI1ZjI0MzRjYTY1ZWQ1NiA9ICQoJzxkaXYgaWQ9Imh0bWxfYTAzOTcyZTEyOGE0NDRlZTliNWYyNDM0Y2E2NWVkNTYiIHN0eWxlPSJ3aWR0aDogMTAwLjAlOyBoZWlnaHQ6IDEwMC4wJTsiPlNlYWZvb2QgUmVzdGF1cmFudDwvZGl2PicpWzBdOwogICAgICAgICAgICAgICAgcG9wdXBfNTMxZjM3MTAxMTgyNGFmYWIzMGFhNGEzMTMwM2U5NDEuc2V0Q29udGVudChodG1sX2EwMzk3MmUxMjhhNDQ0ZWU5YjVmMjQzNGNhNjVlZDU2KTsKICAgICAgICAgICAgCgogICAgICAgICAgICBjaXJjbGVfbWFya2VyXzkwYTNhMmIwNzRlNTQ0Yjg4OTlhZjRjNjM0NjAxNTY2LmJpbmRQb3B1cChwb3B1cF81MzFmMzcxMDExODI0YWZhYjMwYWE0YTMxMzAzZTk0MSk7CgogICAgICAgICAgICAKICAgICAgICAKICAgIAogICAgICAgICAgICB2YXIgY2lyY2xlX21hcmtlcl9lY2Y3NGMyZjRjZjE0M2MyODZhNmZhOGEwYjEwNWI0YSA9IEwuY2lyY2xlTWFya2VyKAogICAgICAgICAgICAgICAgWzMyLjkxNzIzMjg0ODM1NTE2LC0xMTcuMjI4ODE3MTYyNDI5MjFdLAogICAgICAgICAgICAgICAgewogICJidWJibGluZ01vdXNlRXZlbnRzIjogdHJ1ZSwKICAiY29sb3IiOiAiYmx1ZSIsCiAgImRhc2hBcnJheSI6IG51bGwsCiAgImRhc2hPZmZzZXQiOiBudWxsLAogICJmaWxsIjogdHJ1ZSwKICAiZmlsbENvbG9yIjogImJsdWUiLAogICJmaWxsT3BhY2l0eSI6IDAuNiwKICAiZmlsbFJ1bGUiOiAiZXZlbm9kZCIsCiAgImxpbmVDYXAiOiAicm91bmQiLAogICJsaW5lSm9pbiI6ICJyb3VuZCIsCiAgIm9wYWNpdHkiOiAxLjAsCiAgInJhZGl1cyI6IDUsCiAgInN0cm9rZSI6IHRydWUsCiAgIndlaWdodCI6IDMKfQogICAgICAgICAgICAgICAgKS5hZGRUbyhtYXBfYTYxNjExNmVlMjdhNDhiZjhmYzc2YWQxYTMzYTM4Y2MpOwogICAgICAgICAgICAKICAgIAogICAgICAgICAgICB2YXIgcG9wdXBfYWVlYjk5Njg1ZWJkNDMxZjk0M2M4YzI4YmZiZWYzMTggPSBMLnBvcHVwKHttYXhXaWR0aDogJzMwMCd9KTsKCiAgICAgICAgICAgIAogICAgICAgICAgICAgICAgdmFyIGh0bWxfNDk0N2IwMmVjNWQ4NDYwNjhmYzAwYzJlMDg2YzQwMzggPSAkKCc8ZGl2IGlkPSJodG1sXzQ5NDdiMDJlYzVkODQ2MDY4ZmMwMGMyZTA4NmM0MDM4IiBzdHlsZT0id2lkdGg6IDEwMC4wJTsgaGVpZ2h0OiAxMDAuMCU7Ij5XaW5lIEJhcjwvZGl2PicpWzBdOwogICAgICAgICAgICAgICAgcG9wdXBfYWVlYjk5Njg1ZWJkNDMxZjk0M2M4YzI4YmZiZWYzMTguc2V0Q29udGVudChodG1sXzQ5NDdiMDJlYzVkODQ2MDY4ZmMwMGMyZTA4NmM0MDM4KTsKICAgICAgICAgICAgCgogICAgICAgICAgICBjaXJjbGVfbWFya2VyX2VjZjc0YzJmNGNmMTQzYzI4NmE2ZmE4YTBiMTA1YjRhLmJpbmRQb3B1cChwb3B1cF9hZWViOTk2ODVlYmQ0MzFmOTQzYzhjMjhiZmJlZjMxOCk7CgogICAgICAgICAgICAKICAgICAgICAKICAgIAogICAgICAgICAgICB2YXIgY2lyY2xlX21hcmtlcl9hZGM0NTNjNTQyMGY0ZmY3YjcyYzhjMzM0NTdhYTE0ZCA9IEwuY2lyY2xlTWFya2VyKAogICAgICAgICAgICAgICAgWzMyLjg1Mzk1NDI3MzY0MzY0NSwtMTE3LjI1NjE2NzA4Nzg1MDkzXSwKICAgICAgICAgICAgICAgIHsKICAiYnViYmxpbmdNb3VzZUV2ZW50cyI6IHRydWUsCiAgImNvbG9yIjogImJsdWUiLAogICJkYXNoQXJyYXkiOiBudWxsLAogICJkYXNoT2Zmc2V0IjogbnVsbCwKICAiZmlsbCI6IHRydWUsCiAgImZpbGxDb2xvciI6ICJibHVlIiwKICAiZmlsbE9wYWNpdHkiOiAwLjYsCiAgImZpbGxSdWxlIjogImV2ZW5vZGQiLAogICJsaW5lQ2FwIjogInJvdW5kIiwKICAibGluZUpvaW4iOiAicm91bmQiLAogICJvcGFjaXR5IjogMS4wLAogICJyYWRpdXMiOiA1LAogICJzdHJva2UiOiB0cnVlLAogICJ3ZWlnaHQiOiAzCn0KICAgICAgICAgICAgICAgICkuYWRkVG8obWFwX2E2MTYxMTZlZTI3YTQ4YmY4ZmM3NmFkMWEzM2EzOGNjKTsKICAgICAgICAgICAgCiAgICAKICAgICAgICAgICAgdmFyIHBvcHVwX2UxZTE0YjQxYjBiMTRlOGVhMjIzYmNiMGMxM2U0Njg1ID0gTC5wb3B1cCh7bWF4V2lkdGg6ICczMDAnfSk7CgogICAgICAgICAgICAKICAgICAgICAgICAgICAgIHZhciBodG1sX2E0NjU2NTI5NjcwMjQ1NGNiMGM5YzA2ODdiMjNkYTAzID0gJCgnPGRpdiBpZD0iaHRtbF9hNDY1NjUyOTY3MDI0NTRjYjBjOWMwNjg3YjIzZGEwMyIgc3R5bGU9IndpZHRoOiAxMDAuMCU7IGhlaWdodDogMTAwLjAlOyI+SXRhbGlhbiBSZXN0YXVyYW50PC9kaXY+JylbMF07CiAgICAgICAgICAgICAgICBwb3B1cF9lMWUxNGI0MWIwYjE0ZThlYTIyM2JjYjBjMTNlNDY4NS5zZXRDb250ZW50KGh0bWxfYTQ2NTY1Mjk2NzAyNDU0Y2IwYzljMDY4N2IyM2RhMDMpOwogICAgICAgICAgICAKCiAgICAgICAgICAgIGNpcmNsZV9tYXJrZXJfYWRjNDUzYzU0MjBmNGZmN2I3MmM4YzMzNDU3YWExNGQuYmluZFBvcHVwKHBvcHVwX2UxZTE0YjQxYjBiMTRlOGVhMjIzYmNiMGMxM2U0Njg1KTsKCiAgICAgICAgICAgIAogICAgICAgIAogICAgCiAgICAgICAgICAgIHZhciBjaXJjbGVfbWFya2VyX2IyNjc0NDM5YWQ3NDRmNWE4OGRkNzg1ZGNhZmQxZmQ1ID0gTC5jaXJjbGVNYXJrZXIoCiAgICAgICAgICAgICAgICBbMzIuODUzODE5NDU0NDQ3MzEsLTExNy4yNTU5Njg4NTU0Mjg3OV0sCiAgICAgICAgICAgICAgICB7CiAgImJ1YmJsaW5nTW91c2VFdmVudHMiOiB0cnVlLAogICJjb2xvciI6ICJibHVlIiwKICAiZGFzaEFycmF5IjogbnVsbCwKICAiZGFzaE9mZnNldCI6IG51bGwsCiAgImZpbGwiOiB0cnVlLAogICJmaWxsQ29sb3IiOiAiYmx1ZSIsCiAgImZpbGxPcGFjaXR5IjogMC42LAogICJmaWxsUnVsZSI6ICJldmVub2RkIiwKICAibGluZUNhcCI6ICJyb3VuZCIsCiAgImxpbmVKb2luIjogInJvdW5kIiwKICAib3BhY2l0eSI6IDEuMCwKICAicmFkaXVzIjogNSwKICAic3Ryb2tlIjogdHJ1ZSwKICAid2VpZ2h0IjogMwp9CiAgICAgICAgICAgICAgICApLmFkZFRvKG1hcF9hNjE2MTE2ZWUyN2E0OGJmOGZjNzZhZDFhMzNhMzhjYyk7CiAgICAgICAgICAgIAogICAgCiAgICAgICAgICAgIHZhciBwb3B1cF9hNzZlYjAzMzVjY2E0ZTA2YWE1MzRlNmVhMGJjNTFkYSA9IEwucG9wdXAoe21heFdpZHRoOiAnMzAwJ30pOwoKICAgICAgICAgICAgCiAgICAgICAgICAgICAgICB2YXIgaHRtbF9jNjAyYzkwNzg4ZDI0ZTdhYTQwZjdiODM3MWJkMTdkMyA9ICQoJzxkaXYgaWQ9Imh0bWxfYzYwMmM5MDc4OGQyNGU3YWE0MGY3YjgzNzFiZDE3ZDMiIHN0eWxlPSJ3aWR0aDogMTAwLjAlOyBoZWlnaHQ6IDEwMC4wJTsiPk1leGljYW4gUmVzdGF1cmFudDwvZGl2PicpWzBdOwogICAgICAgICAgICAgICAgcG9wdXBfYTc2ZWIwMzM1Y2NhNGUwNmFhNTM0ZTZlYTBiYzUxZGEuc2V0Q29udGVudChodG1sX2M2MDJjOTA3ODhkMjRlN2FhNDBmN2I4MzcxYmQxN2QzKTsKICAgICAgICAgICAgCgogICAgICAgICAgICBjaXJjbGVfbWFya2VyX2IyNjc0NDM5YWQ3NDRmNWE4OGRkNzg1ZGNhZmQxZmQ1LmJpbmRQb3B1cChwb3B1cF9hNzZlYjAzMzVjY2E0ZTA2YWE1MzRlNmVhMGJjNTFkYSk7CgogICAgICAgICAgICAKICAgICAgICAKICAgIAogICAgICAgICAgICB2YXIgY2lyY2xlX21hcmtlcl82YTkwZThjOTk1MzA0MjgxYTA0Y2U0MzViMjBlNDdkYyA9IEwuY2lyY2xlTWFya2VyKAogICAgICAgICAgICAgICAgWzMyLjkwMDk0MywtMTE3LjE5MzA5OF0sCiAgICAgICAgICAgICAgICB7CiAgImJ1YmJsaW5nTW91c2VFdmVudHMiOiB0cnVlLAogICJjb2xvciI6ICJibHVlIiwKICAiZGFzaEFycmF5IjogbnVsbCwKICAiZGFzaE9mZnNldCI6IG51bGwsCiAgImZpbGwiOiB0cnVlLAogICJmaWxsQ29sb3IiOiAiYmx1ZSIsCiAgImZpbGxPcGFjaXR5IjogMC42LAogICJmaWxsUnVsZSI6ICJldmVub2RkIiwKICAibGluZUNhcCI6ICJyb3VuZCIsCiAgImxpbmVKb2luIjogInJvdW5kIiwKICAib3BhY2l0eSI6IDEuMCwKICAicmFkaXVzIjogNSwKICAic3Ryb2tlIjogdHJ1ZSwKICAid2VpZ2h0IjogMwp9CiAgICAgICAgICAgICAgICApLmFkZFRvKG1hcF9hNjE2MTE2ZWUyN2E0OGJmOGZjNzZhZDFhMzNhMzhjYyk7CiAgICAgICAgICAgIAogICAgCiAgICAgICAgICAgIHZhciBwb3B1cF9mMzM0ZjZlZDliNTA0Yjg4YmRiOTY3NTQ4M2U2ODA1NSA9IEwucG9wdXAoe21heFdpZHRoOiAnMzAwJ30pOwoKICAgICAgICAgICAgCiAgICAgICAgICAgICAgICB2YXIgaHRtbF9iZWJkYmIyMjY0OTY0ZTdkOWIwODNmNWMzMmUyNGIzNCA9ICQoJzxkaXYgaWQ9Imh0bWxfYmViZGJiMjI2NDk2NGU3ZDliMDgzZjVjMzJlMjRiMzQiIHN0eWxlPSJ3aWR0aDogMTAwLjAlOyBoZWlnaHQ6IDEwMC4wJTsiPkluZGlhbiBSZXN0YXVyYW50PC9kaXY+JylbMF07CiAgICAgICAgICAgICAgICBwb3B1cF9mMzM0ZjZlZDliNTA0Yjg4YmRiOTY3NTQ4M2U2ODA1NS5zZXRDb250ZW50KGh0bWxfYmViZGJiMjI2NDk2NGU3ZDliMDgzZjVjMzJlMjRiMzQpOwogICAgICAgICAgICAKCiAgICAgICAgICAgIGNpcmNsZV9tYXJrZXJfNmE5MGU4Yzk5NTMwNDI4MWEwNGNlNDM1YjIwZTQ3ZGMuYmluZFBvcHVwKHBvcHVwX2YzMzRmNmVkOWI1MDRiODhiZGI5Njc1NDgzZTY4MDU1KTsKCiAgICAgICAgICAgIAogICAgICAgIAogICAgCiAgICAgICAgICAgIHZhciBjaXJjbGVfbWFya2VyX2YzOGUwNWNkYWE3NDQ2Y2ZiOGFhNTMxODIwOGZkYjFjID0gTC5jaXJjbGVNYXJrZXIoCiAgICAgICAgICAgICAgICBbMzIuODU0OTY1NDUzMjA2MzA0LC0xMTcuMjU3OTEyMzA4Mzc0MTldLAogICAgICAgICAgICAgICAgewogICJidWJibGluZ01vdXNlRXZlbnRzIjogdHJ1ZSwKICAiY29sb3IiOiAiYmx1ZSIsCiAgImRhc2hBcnJheSI6IG51bGwsCiAgImRhc2hPZmZzZXQiOiBudWxsLAogICJmaWxsIjogdHJ1ZSwKICAiZmlsbENvbG9yIjogImJsdWUiLAogICJmaWxsT3BhY2l0eSI6IDAuNiwKICAiZmlsbFJ1bGUiOiAiZXZlbm9kZCIsCiAgImxpbmVDYXAiOiAicm91bmQiLAogICJsaW5lSm9pbiI6ICJyb3VuZCIsCiAgIm9wYWNpdHkiOiAxLjAsCiAgInJhZGl1cyI6IDUsCiAgInN0cm9rZSI6IHRydWUsCiAgIndlaWdodCI6IDMKfQogICAgICAgICAgICAgICAgKS5hZGRUbyhtYXBfYTYxNjExNmVlMjdhNDhiZjhmYzc2YWQxYTMzYTM4Y2MpOwogICAgICAgICAgICAKICAgIAogICAgICAgICAgICB2YXIgcG9wdXBfMmUyZThhYzdkYzllNDEzNGFjNGQ3OTk3ZDViOTQwNTAgPSBMLnBvcHVwKHttYXhXaWR0aDogJzMwMCd9KTsKCiAgICAgICAgICAgIAogICAgICAgICAgICAgICAgdmFyIGh0bWxfYTc0Y2UyOTRlODVhNDMyNWFjYjUzNzdiNTI0ZmIwODYgPSAkKCc8ZGl2IGlkPSJodG1sX2E3NGNlMjk0ZTg1YTQzMjVhY2I1Mzc3YjUyNGZiMDg2IiBzdHlsZT0id2lkdGg6IDEwMC4wJTsgaGVpZ2h0OiAxMDAuMCU7Ij5Ib3RlbDwvZGl2PicpWzBdOwogICAgICAgICAgICAgICAgcG9wdXBfMmUyZThhYzdkYzllNDEzNGFjNGQ3OTk3ZDViOTQwNTAuc2V0Q29udGVudChodG1sX2E3NGNlMjk0ZTg1YTQzMjVhY2I1Mzc3YjUyNGZiMDg2KTsKICAgICAgICAgICAgCgogICAgICAgICAgICBjaXJjbGVfbWFya2VyX2YzOGUwNWNkYWE3NDQ2Y2ZiOGFhNTMxODIwOGZkYjFjLmJpbmRQb3B1cChwb3B1cF8yZTJlOGFjN2RjOWU0MTM0YWM0ZDc5OTdkNWI5NDA1MCk7CgogICAgICAgICAgICAKICAgICAgICAKICAgIAogICAgICAgICAgICB2YXIgY2lyY2xlX21hcmtlcl83YjA5NDRjOWU2ZTc0YWY1OTEyZWQzYjM0ZWFjOTU0NCA9IEwuY2lyY2xlTWFya2VyKAogICAgICAgICAgICAgICAgWzMyLjg3MDIwNDkyNTUzNzExLC0xMTcuMjE0NzQ0NTY3ODcxMV0sCiAgICAgICAgICAgICAgICB7CiAgImJ1YmJsaW5nTW91c2VFdmVudHMiOiB0cnVlLAogICJjb2xvciI6ICJibHVlIiwKICAiZGFzaEFycmF5IjogbnVsbCwKICAiZGFzaE9mZnNldCI6IG51bGwsCiAgImZpbGwiOiB0cnVlLAogICJmaWxsQ29sb3IiOiAiYmx1ZSIsCiAgImZpbGxPcGFjaXR5IjogMC42LAogICJmaWxsUnVsZSI6ICJldmVub2RkIiwKICAibGluZUNhcCI6ICJyb3VuZCIsCiAgImxpbmVKb2luIjogInJvdW5kIiwKICAib3BhY2l0eSI6IDEuMCwKICAicmFkaXVzIjogNSwKICAic3Ryb2tlIjogdHJ1ZSwKICAid2VpZ2h0IjogMwp9CiAgICAgICAgICAgICAgICApLmFkZFRvKG1hcF9hNjE2MTE2ZWUyN2E0OGJmOGZjNzZhZDFhMzNhMzhjYyk7CiAgICAgICAgICAgIAogICAgCiAgICAgICAgICAgIHZhciBwb3B1cF82YjdkODJkNDcwMTM0Y2IzOTlmNzM0YmE5ZTdmZmY0YiA9IEwucG9wdXAoe21heFdpZHRoOiAnMzAwJ30pOwoKICAgICAgICAgICAgCiAgICAgICAgICAgICAgICB2YXIgaHRtbF80MTVjM2NlMGRlMTg0NjliODhjYzQ4NWFmODUyZmFhZSA9ICQoJzxkaXYgaWQ9Imh0bWxfNDE1YzNjZTBkZTE4NDY5Yjg4Y2M0ODVhZjg1MmZhYWUiIHN0eWxlPSJ3aWR0aDogMTAwLjAlOyBoZWlnaHQ6IDEwMC4wJTsiPkFtZXJpY2FuIFJlc3RhdXJhbnQ8L2Rpdj4nKVswXTsKICAgICAgICAgICAgICAgIHBvcHVwXzZiN2Q4MmQ0NzAxMzRjYjM5OWY3MzRiYTllN2ZmZjRiLnNldENvbnRlbnQoaHRtbF80MTVjM2NlMGRlMTg0NjliODhjYzQ4NWFmODUyZmFhZSk7CiAgICAgICAgICAgIAoKICAgICAgICAgICAgY2lyY2xlX21hcmtlcl83YjA5NDRjOWU2ZTc0YWY1OTEyZWQzYjM0ZWFjOTU0NC5iaW5kUG9wdXAocG9wdXBfNmI3ZDgyZDQ3MDEzNGNiMzk5ZjczNGJhOWU3ZmZmNGIpOwoKICAgICAgICAgICAgCiAgICAgICAgCiAgICAKICAgICAgICAgICAgdmFyIGNpcmNsZV9tYXJrZXJfY2FmNDM4ZTg2OWExNGZiNGJkMWEwYjdhMDhkMGQwMTkgPSBMLmNpcmNsZU1hcmtlcigKICAgICAgICAgICAgICAgIFszMi44NzA3Mjc4ODQ1OTk0NCwtMTE3LjIyNDM3OTE1MDkwMTg1XSwKICAgICAgICAgICAgICAgIHsKICAiYnViYmxpbmdNb3VzZUV2ZW50cyI6IHRydWUsCiAgImNvbG9yIjogImJsdWUiLAogICJkYXNoQXJyYXkiOiBudWxsLAogICJkYXNoT2Zmc2V0IjogbnVsbCwKICAiZmlsbCI6IHRydWUsCiAgImZpbGxDb2xvciI6ICJibHVlIiwKICAiZmlsbE9wYWNpdHkiOiAwLjYsCiAgImZpbGxSdWxlIjogImV2ZW5vZGQiLAogICJsaW5lQ2FwIjogInJvdW5kIiwKICAibGluZUpvaW4iOiAicm91bmQiLAogICJvcGFjaXR5IjogMS4wLAogICJyYWRpdXMiOiA1LAogICJzdHJva2UiOiB0cnVlLAogICJ3ZWlnaHQiOiAzCn0KICAgICAgICAgICAgICAgICkuYWRkVG8obWFwX2E2MTYxMTZlZTI3YTQ4YmY4ZmM3NmFkMWEzM2EzOGNjKTsKICAgICAgICAgICAgCiAgICAKICAgICAgICAgICAgdmFyIHBvcHVwX2Y1MzcyZGMyZmUxODQ3NjY5Mzc2ZTY5ZTZkZTIxOTBiID0gTC5wb3B1cCh7bWF4V2lkdGg6ICczMDAnfSk7CgogICAgICAgICAgICAKICAgICAgICAgICAgICAgIHZhciBodG1sX2Y0NWVkMDZhOGJjZjQ5YTZhMDUzNzUwZjEzNzA5ZDVmID0gJCgnPGRpdiBpZD0iaHRtbF9mNDVlZDA2YThiY2Y0OWE2YTA1Mzc1MGYxMzcwOWQ1ZiIgc3R5bGU9IndpZHRoOiAxMDAuMCU7IGhlaWdodDogMTAwLjAlOyI+U2VhZm9vZCBSZXN0YXVyYW50PC9kaXY+JylbMF07CiAgICAgICAgICAgICAgICBwb3B1cF9mNTM3MmRjMmZlMTg0NzY2OTM3NmU2OWU2ZGUyMTkwYi5zZXRDb250ZW50KGh0bWxfZjQ1ZWQwNmE4YmNmNDlhNmEwNTM3NTBmMTM3MDlkNWYpOwogICAgICAgICAgICAKCiAgICAgICAgICAgIGNpcmNsZV9tYXJrZXJfY2FmNDM4ZTg2OWExNGZiNGJkMWEwYjdhMDhkMGQwMTkuYmluZFBvcHVwKHBvcHVwX2Y1MzcyZGMyZmUxODQ3NjY5Mzc2ZTY5ZTZkZTIxOTBiKTsKCiAgICAgICAgICAgIAogICAgICAgIAogICAgCiAgICAgICAgICAgIHZhciBjaXJjbGVfbWFya2VyXzVmNTIxNTQwMTAzYjQ2MGJiODE3YzA0YWU1NWZjY2RhID0gTC5jaXJjbGVNYXJrZXIoCiAgICAgICAgICAgICAgICBbMzIuOTI2NDc1MTMyOTc3NzE0LC0xMTcuMjM3MDYzNjk3MzA3NThdLAogICAgICAgICAgICAgICAgewogICJidWJibGluZ01vdXNlRXZlbnRzIjogdHJ1ZSwKICAiY29sb3IiOiAiYmx1ZSIsCiAgImRhc2hBcnJheSI6IG51bGwsCiAgImRhc2hPZmZzZXQiOiBudWxsLAogICJmaWxsIjogdHJ1ZSwKICAiZmlsbENvbG9yIjogImJsdWUiLAogICJmaWxsT3BhY2l0eSI6IDAuNiwKICAiZmlsbFJ1bGUiOiAiZXZlbm9kZCIsCiAgImxpbmVDYXAiOiAicm91bmQiLAogICJsaW5lSm9pbiI6ICJyb3VuZCIsCiAgIm9wYWNpdHkiOiAxLjAsCiAgInJhZGl1cyI6IDUsCiAgInN0cm9rZSI6IHRydWUsCiAgIndlaWdodCI6IDMKfQogICAgICAgICAgICAgICAgKS5hZGRUbyhtYXBfYTYxNjExNmVlMjdhNDhiZjhmYzc2YWQxYTMzYTM4Y2MpOwogICAgICAgICAgICAKICAgIAogICAgICAgICAgICB2YXIgcG9wdXBfZjE5NmJlNWU5M2FkNDM0Zjk1NzIzOWIxOTlhMDg4YzUgPSBMLnBvcHVwKHttYXhXaWR0aDogJzMwMCd9KTsKCiAgICAgICAgICAgIAogICAgICAgICAgICAgICAgdmFyIGh0bWxfNmVhOTU0NzAxNGRlNDMyNjg0ZTgyY2Q4NTMwMWVkNDkgPSAkKCc8ZGl2IGlkPSJodG1sXzZlYTk1NDcwMTRkZTQzMjY4NGU4MmNkODUzMDFlZDQ5IiBzdHlsZT0id2lkdGg6IDEwMC4wJTsgaGVpZ2h0OiAxMDAuMCU7Ij5NZWRpdGVycmFuZWFuIFJlc3RhdXJhbnQ8L2Rpdj4nKVswXTsKICAgICAgICAgICAgICAgIHBvcHVwX2YxOTZiZTVlOTNhZDQzNGY5NTcyMzliMTk5YTA4OGM1LnNldENvbnRlbnQoaHRtbF82ZWE5NTQ3MDE0ZGU0MzI2ODRlODJjZDg1MzAxZWQ0OSk7CiAgICAgICAgICAgIAoKICAgICAgICAgICAgY2lyY2xlX21hcmtlcl81ZjUyMTU0MDEwM2I0NjBiYjgxN2MwNGFlNTVmY2NkYS5iaW5kUG9wdXAocG9wdXBfZjE5NmJlNWU5M2FkNDM0Zjk1NzIzOWIxOTlhMDg4YzUpOwoKICAgICAgICAgICAgCiAgICAgICAgCiAgICAKICAgICAgICAgICAgdmFyIGNpcmNsZV9tYXJrZXJfZDE4M2Y5ZWNjZGQ5NDVmZjk5NDE0NGE2N2M4MTg0YWUgPSBMLmNpcmNsZU1hcmtlcigKICAgICAgICAgICAgICAgIFszMi44OTM2MDM0MzU0MzcwNywtMTE3LjIwMzc3MjUzMzA4MTI1XSwKICAgICAgICAgICAgICAgIHsKICAiYnViYmxpbmdNb3VzZUV2ZW50cyI6IHRydWUsCiAgImNvbG9yIjogImJsdWUiLAogICJkYXNoQXJyYXkiOiBudWxsLAogICJkYXNoT2Zmc2V0IjogbnVsbCwKICAiZmlsbCI6IHRydWUsCiAgImZpbGxDb2xvciI6ICJibHVlIiwKICAiZmlsbE9wYWNpdHkiOiAwLjYsCiAgImZpbGxSdWxlIjogImV2ZW5vZGQiLAogICJsaW5lQ2FwIjogInJvdW5kIiwKICAibGluZUpvaW4iOiAicm91bmQiLAogICJvcGFjaXR5IjogMS4wLAogICJyYWRpdXMiOiA1LAogICJzdHJva2UiOiB0cnVlLAogICJ3ZWlnaHQiOiAzCn0KICAgICAgICAgICAgICAgICkuYWRkVG8obWFwX2E2MTYxMTZlZTI3YTQ4YmY4ZmM3NmFkMWEzM2EzOGNjKTsKICAgICAgICAgICAgCiAgICAKICAgICAgICAgICAgdmFyIHBvcHVwXzg5NzczMGJhZDA0YTQ0NGU5MGU1YjFkYThkYmM1ODFlID0gTC5wb3B1cCh7bWF4V2lkdGg6ICczMDAnfSk7CgogICAgICAgICAgICAKICAgICAgICAgICAgICAgIHZhciBodG1sX2Q0ZWM0NmYwNTY0NTQyZjZhMTRjNzI1Y2Y4ZjExNzRlID0gJCgnPGRpdiBpZD0iaHRtbF9kNGVjNDZmMDU2NDU0MmY2YTE0YzcyNWNmOGYxMTc0ZSIgc3R5bGU9IndpZHRoOiAxMDAuMCU7IGhlaWdodDogMTAwLjAlOyI+Q2hpbmVzZSBSZXN0YXVyYW50PC9kaXY+JylbMF07CiAgICAgICAgICAgICAgICBwb3B1cF84OTc3MzBiYWQwNGE0NDRlOTBlNWIxZGE4ZGJjNTgxZS5zZXRDb250ZW50KGh0bWxfZDRlYzQ2ZjA1NjQ1NDJmNmExNGM3MjVjZjhmMTE3NGUpOwogICAgICAgICAgICAKCiAgICAgICAgICAgIGNpcmNsZV9tYXJrZXJfZDE4M2Y5ZWNjZGQ5NDVmZjk5NDE0NGE2N2M4MTg0YWUuYmluZFBvcHVwKHBvcHVwXzg5NzczMGJhZDA0YTQ0NGU5MGU1YjFkYThkYmM1ODFlKTsKCiAgICAgICAgICAgIAogICAgICAgIAo8L3NjcmlwdD4= onload=\"this.contentDocument.open();this.contentDocument.write(atob(this.getAttribute('data-html')));this.contentDocument.close();\" allowfullscreen webkitallowfullscreen mozallowfullscreen></iframe></div></div>"
      ],
      "text/plain": [
       "<folium.folium.Map at 0x1e839c9d700>"
      ]
     },
     "execution_count": 36,
     "metadata": {},
     "output_type": "execute_result"
    }
   ],
   "source": [
    "venues_map = folium.Map(location=[latitude, longitude], zoom_start=13) # generate map centred around the Conrad Hotel\n",
    "\n",
    "# add a red circle marker to represent UCSD\n",
    "folium.CircleMarker(\n",
    "    [latitude, longitude],\n",
    "    radius=15,\n",
    "    color='red',    \n",
    "    popup='UCSD',\n",
    "    fill = True,\n",
    "    fill_color = 'red',\n",
    "    fill_opacity = 0.6\n",
    ").add_to(venues_map)\n",
    "\n",
    "# add the restaurants as blue circle markers\n",
    "for lat, lng, label in zip(df_update.lat, df_update.lng, df_update.categories):\n",
    "    folium.CircleMarker(\n",
    "        [lat, lng],\n",
    "        radius=5,\n",
    "        color='blue',\n",
    "        popup=label,\n",
    "        fill = True,        \n",
    "        fill_color='blue',\n",
    "        fill_opacity=0.6\n",
    "    ).add_to(venues_map)\n",
    "\n",
    "# display map\n",
    "venues_map"
   ]
  },
  {
   "cell_type": "markdown",
   "metadata": {},
   "source": []
  },
  {
   "cell_type": "code",
   "execution_count": 65,
   "metadata": {},
   "outputs": [
    {
     "data": {
      "text/plain": [
       "(123, 2)"
      ]
     },
     "execution_count": 65,
     "metadata": {},
     "output_type": "execute_result"
    }
   ],
   "source": []
  },
  {
   "cell_type": "code",
   "execution_count": 85,
   "metadata": {},
   "outputs": [
    {
     "data": {
      "text/plain": [
       "(68, 86)"
      ]
     },
     "execution_count": 85,
     "metadata": {},
     "output_type": "execute_result"
    }
   ],
   "source": []
  },
  {
   "cell_type": "markdown",
   "metadata": {},
   "source": []
  },
  {
   "cell_type": "code",
   "execution_count": 92,
   "metadata": {},
   "outputs": [
    {
     "data": {
      "text/html": [
       "<div>\n",
       "<style scoped>\n",
       "    .dataframe tbody tr th:only-of-type {\n",
       "        vertical-align: middle;\n",
       "    }\n",
       "\n",
       "    .dataframe tbody tr th {\n",
       "        vertical-align: top;\n",
       "    }\n",
       "\n",
       "    .dataframe thead th {\n",
       "        text-align: right;\n",
       "    }\n",
       "</style>\n",
       "<table border=\"1\" class=\"dataframe\">\n",
       "  <thead>\n",
       "    <tr style=\"text-align: right;\">\n",
       "      <th></th>\n",
       "      <th>ZIP</th>\n",
       "      <th>rent</th>\n",
       "    </tr>\n",
       "  </thead>\n",
       "  <tbody>\n",
       "    <tr>\n",
       "      <th>115</th>\n",
       "      <td>91910</td>\n",
       "      <td>2117.0</td>\n",
       "    </tr>\n",
       "    <tr>\n",
       "      <th>162</th>\n",
       "      <td>92126</td>\n",
       "      <td>2463.0</td>\n",
       "    </tr>\n",
       "    <tr>\n",
       "      <th>168</th>\n",
       "      <td>91911</td>\n",
       "      <td>2037.0</td>\n",
       "    </tr>\n",
       "    <tr>\n",
       "      <th>174</th>\n",
       "      <td>92101</td>\n",
       "      <td>2340.0</td>\n",
       "    </tr>\n",
       "    <tr>\n",
       "      <th>205</th>\n",
       "      <td>92109</td>\n",
       "      <td>2322.0</td>\n",
       "    </tr>\n",
       "  </tbody>\n",
       "</table>\n",
       "</div>"
      ],
      "text/plain": [
       "       ZIP    rent\n",
       "115  91910  2117.0\n",
       "162  92126  2463.0\n",
       "168  91911  2037.0\n",
       "174  92101  2340.0\n",
       "205  92109  2322.0"
      ]
     },
     "execution_count": 92,
     "metadata": {},
     "output_type": "execute_result"
    }
   ],
   "source": []
  },
  {
   "cell_type": "code",
   "execution_count": null,
   "metadata": {},
   "outputs": [],
   "source": []
  },
  {
   "cell_type": "code",
   "execution_count": null,
   "metadata": {},
   "outputs": [],
   "source": []
  },
  {
   "cell_type": "code",
   "execution_count": null,
   "metadata": {},
   "outputs": [],
   "source": []
  },
  {
   "cell_type": "code",
   "execution_count": null,
   "metadata": {},
   "outputs": [],
   "source": []
  },
  {
   "cell_type": "code",
   "execution_count": null,
   "metadata": {},
   "outputs": [],
   "source": []
  },
  {
   "cell_type": "code",
   "execution_count": null,
   "metadata": {},
   "outputs": [],
   "source": []
  },
  {
   "cell_type": "code",
   "execution_count": null,
   "metadata": {},
   "outputs": [],
   "source": []
  },
  {
   "cell_type": "code",
   "execution_count": null,
   "metadata": {},
   "outputs": [],
   "source": []
  },
  {
   "cell_type": "code",
   "execution_count": null,
   "metadata": {},
   "outputs": [],
   "source": []
  },
  {
   "cell_type": "code",
   "execution_count": null,
   "metadata": {},
   "outputs": [],
   "source": []
  }
 ],
 "metadata": {
  "kernelspec": {
   "display_name": "Python 3",
   "language": "python",
   "name": "python3"
  },
  "language_info": {
   "codemirror_mode": {
    "name": "ipython",
    "version": 3
   },
   "file_extension": ".py",
   "mimetype": "text/x-python",
   "name": "python",
   "nbconvert_exporter": "python",
   "pygments_lexer": "ipython3",
   "version": "3.8.5"
  }
 },
 "nbformat": 4,
 "nbformat_minor": 2
}
