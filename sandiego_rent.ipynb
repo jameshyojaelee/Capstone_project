{
 "metadata": {
  "language_info": {
   "codemirror_mode": {
    "name": "ipython",
    "version": 3
   },
   "file_extension": ".py",
   "mimetype": "text/x-python",
   "name": "python",
   "nbconvert_exporter": "python",
   "pygments_lexer": "ipython3",
   "version": "3.8.5-final"
  },
  "orig_nbformat": 2,
  "kernelspec": {
   "name": "python3",
   "display_name": "Python 3"
  }
 },
 "nbformat": 4,
 "nbformat_minor": 2,
 "cells": [
  {
   "source": [
    "# Capstone project:\n",
    "# San Diego Rental House Prices in relation to Venues\n",
    "### Author: James Lee\n",
    "\n",
    "## 1. Background\n",
    "\n",
    "San Diego is a city on Pacific coast of California with around 1.5  million residents. Because of its warm climate and beaches, San Diego has one of the highest cost of living in California. The main purpose of this project is to take a look at the venues in San Diego and house rental prices across different areas in San Diego. \n",
    "</br> </br>\n",
    "\n",
    "\n",
    "## 2. Dataset\n",
    "\n",
    "* I will be obtaining all the data for locations and venues in San Diego through **Foursquare API**.\n",
    "</br> </br>\n",
    "* The rental prices dataset was obtained from Zillow. The particular dataset does not include raw rental prices. The values are weighted to rental housing stock to ensure representativeness acorss the entire market. The values are caculated so that they fall into the 40-60th percentile rnage for all rents in a given region in order to represent the average rent prices.\n",
    "</br>\n",
    "Link address: http://files.zillowstatic.com/research/public_v2/zori/Metro_ZORI_AllHomesPlusMultifamily_SSA.csv  \n",
    "\n",
    "</br>\n"
   ],
   "cell_type": "markdown",
   "metadata": {}
  },
  {
   "cell_type": "code",
   "execution_count": 3,
   "metadata": {},
   "outputs": [
    {
     "output_type": "stream",
     "name": "stdout",
     "text": [
      "Libraries imported.\n"
     ]
    }
   ],
   "source": [
    "import requests # library to handle requests\n",
    "import pandas as pd # library for data analsysis\n",
    "import numpy as np # library to handle data in a vectorized manner\n",
    "import random # library for random number generation\n",
    "\n",
    "\n",
    "from geopy.geocoders import Nominatim # module to convert an address into latitude and longitude values\n",
    "\n",
    "# libraries for displaying images\n",
    "from IPython.display import Image \n",
    "from IPython.core.display import HTML \n",
    "    \n",
    "# tranforming json file into a pandas dataframe library\n",
    "from pandas.io.json import json_normalize\n",
    "\n",
    "import folium # plotting library\n",
    "\n",
    "print('Libraries imported.')"
   ]
  },
  {
   "source": [
    "1) Input the Foursquare API info below"
   ],
   "cell_type": "markdown",
   "metadata": {}
  },
  {
   "cell_type": "code",
   "execution_count": 9,
   "metadata": {},
   "outputs": [
    {
     "output_type": "stream",
     "name": "stdout",
     "text": [
      "Your credentails:\nCLIENT_ID: O5XRHQWTDAQI4X53O3LXOAQOUYSIJ5UTGL1W21E43AT3PDCT\nCLIENT_SECRET:5U5LXOZT5B4FJNIMTQCPX5I4GTR4WNAIT2APEDB2NJG3TYV2\n"
     ]
    }
   ],
   "source": [
    "CLIENT_ID = 'O5XRHQWTDAQI4X53O3LXOAQOUYSIJ5UTGL1W21E43AT3PDCT' # your Foursquare ID\n",
    "CLIENT_SECRET = '5U5LXOZT5B4FJNIMTQCPX5I4GTR4WNAIT2APEDB2NJG3TYV2' # your Foursquare Secret\n",
    "ACCESS_TOKEN = '2VMIKNFIAIA3E4RFB1EJHDPNRHDJK1VRT3D1IKVULUZV20ZY' # your FourSquare Access Token\n",
    "VERSION = '20180604'\n",
    "LIMIT = 30\n",
    "print('Your credentails:')\n",
    "print('CLIENT_ID: ' + CLIENT_ID)\n",
    "print('CLIENT_SECRET:' + CLIENT_SECRET)"
   ]
  },
  {
   "cell_type": "code",
   "execution_count": 8,
   "metadata": {},
   "outputs": [
    {
     "output_type": "stream",
     "name": "stdout",
     "text": [
      "32.7174209 -117.1627714\n"
     ]
    }
   ],
   "source": [
    "address = 'San Diego'\n",
    "\n",
    "geolocator = Nominatim(user_agent=\"foursquare_agent\")\n",
    "location = geolocator.geocode(address)\n",
    "latitude = location.latitude\n",
    "longitude = location.longitude\n",
    "print(latitude, longitude)"
   ]
  },
  {
   "cell_type": "code",
   "execution_count": null,
   "metadata": {},
   "outputs": [],
   "source": []
  }
 ]
}